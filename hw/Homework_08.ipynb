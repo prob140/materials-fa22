{
 "cells": [
  {
   "cell_type": "markdown",
   "metadata": {
    "#solution": false,
    "#staff": false,
    "#student": false
   },
   "source": [
    "<table align=\"left\" style=\"border-style: hidden\" class=\"table\"> <tr><td class=\"col-md-2\"><img style=\"float\" src=\"http://prob140.org/assets/icon_sp22_ugarte.png\" alt=\"Prob140 Logo\" style=\"width: 120px;\"/></td><td><div align=\"left\"><h3 style=\"margin-top: 0;\">Probability for Data Science</h3><h4 style=\"margin-top: 20px;\">UC Berkeley, Fall 2022</h4><p>Ani Adhikari</p>CC BY-NC-SA 4.0</div></td></tr></table><!-- not in pdf -->\n",
    "\n",
    "This content is protected and may not be shared, uploaded, or distributed."
   ]
  },
  {
   "cell_type": "markdown",
   "metadata": {
    "#solution": false,
    "#staff": false,
    "#student": false
   },
   "source": [
    "# Homework 8 #"
   ]
  },
  {
   "cell_type": "markdown",
   "metadata": {
    "#solution": false,
    "#staff": false,
    "#student": false
   },
   "source": [
    "### Instructions\n",
    "\n",
    "Your homeworks have two components: a written portion and a portion that also involves code.  Written work should be completed on paper, and coding questions should be done in the notebook.  You are welcome to LaTeX your answers to the written portions, but staff will not be able to assist you with LaTeX related issues. It is your responsibility to ensure that both components of the homework are submitted completely and properly to Gradescope. Refer to the bottom of the notebook for submission instructions."
   ]
  },
  {
   "cell_type": "code",
   "execution_count": null,
   "metadata": {
    "#solution": false,
    "#staff": false,
    "#student": false
   },
   "outputs": [],
   "source": [
    "# Run this cell to set up your notebook\n",
    "\n",
    "# These lines make warnings go away\n",
    "import warnings\n",
    "warnings.filterwarnings('ignore')\n",
    "\n",
    "import numpy as np\n",
    "from scipy import stats\n",
    "from datascience import *\n",
    "from prob140 import *\n",
    "\n",
    "# These lines do some fancy plotting magic\n",
    "import matplotlib\n",
    "%matplotlib inline\n",
    "import matplotlib.pyplot as plt\n",
    "plt.style.use('fivethirtyeight')"
   ]
  },
  {
   "cell_type": "markdown",
   "metadata": {
    "#solution": false,
    "#staff": false,
    "#student": false
   },
   "source": [
    "## 1. Correlation ##\n",
    "The *correlation coefficient* between random variables $X$ and $Y$ is defined as\n",
    "\n",
    "$$\n",
    "r(X, Y) ~ = \\frac{Cov(X, Y)}{SD(X)SD(Y)}\n",
    "$$\n",
    "\n",
    "It is called the correlation, for short. The definition explains why $X$ and $Y$ are called *uncorrelated* if $Cov(X, Y) = 0$.\n",
    "\n",
    "**a)** Let $X^*$ be $X$ in standard units and let $Y^*$ be $Y$ in standard units. Check that\n",
    "\n",
    "$$\n",
    "r(X, Y) = E(X^*Y^*)\n",
    "$$\n",
    "\n",
    "This is the random variable version of the Data 8 definition of the correlation between two data variables: convert each variable to standard units; multiply each pair; take the mean of the products.\n",
    "\n",
    "**b)** Use the fact that $(X^* + Y^*)^2$ and $(X^* - Y^*)^2$ are non-negative random variables to show that $-1 \\le r(X, Y) \\le 1$.\n",
    "\n",
    "[First find the numerical values of $E(X^*)$ and $E\\left({X^*}^2\\right)$. Then find $E\\left((X^* + Y^*)^2\\right)$.]\n",
    "\n",
    "**c)** Show that if $Y = aX+b$ where $a \\ne 0$, then $r(X, Y)$ is 1 or $-1$ depending on whether the sign of $a$ is positive or negative.\n",
    "\n",
    "**d)** Consider a sequence of i.i.d. Bernoulli $(p)$ trials. For any positive integer $k$ let $X_k$ be the number of successes in trials 1 through $k$. **Use bilinearity** to find $Cov(X_n, X_{n+m})$ and hence find $r(X_n, X_{n+m})$.\n",
    "\n",
    "**e)** Fix $n$ and find the limit of $r(X_n, X_{n+m})$ as $m \\to \\infty$. Explain why the limit is consistent with intuition."
   ]
  },
  {
   "cell_type": "markdown",
   "metadata": {
    "#solution": false,
    "#staff": false,
    "#student": false
   },
   "source": [
    "#newpage"
   ]
  },
  {
   "cell_type": "markdown",
   "metadata": {
    "#solution": false,
    "#staff": false,
    "#student": false
   },
   "source": [
    "## 2. The Matching Problem ##\n",
    "\n",
    "In the familiar setting of the matching problem, there are $n$ letters labeled 1 through $n$ and $n$ envelopes labeled 1 through $n$. The letters are distributed at random into the envelopes, one letter per envelope, such that all $n!$ permutations are equally likely.\n",
    "\n",
    "Let $M$ be the number of letters that fall into envelopes with the corresponding label. That is, $M$ is the number of \"matches\" or fixed points of the permutation.\n",
    "\n",
    "**(a)** Fill in the blank:\n",
    "\n",
    "$$M = I_1 + I_2 + \\ldots + I_n$$ \n",
    "\n",
    "where for each $j$ in the range 1 through $n$, $I_j = 1$ if $\\underline{~~~~~~~~~~~~~~~~~~~~~~~~~~~~~~~~~~~~~~~~~~~~~~~~~~~~~~~~~~~~~~~~~~}$, and $I_j = 0$ otherwise.\n",
    "\n",
    "**(b)** Use Part **(a)** to show that $E(M)$ has the same numerical value for all $n$.\n",
    "\n",
    "**(c)** Use Part **(a)** to show that $Var(M)$ has the same numerical value for all $n$.\n",
    "\n",
    "**(d)** The approximate distribtion of $M$ when $n$ is large is given at the bottom of [Section 5.3](http://prob140.org/textbook/content/Chapter_05/03_The_Matching_Problem.html) in the textbook. Are your answers to Parts **(b)** and **(c)** consistent with that approximation?"
   ]
  },
  {
   "cell_type": "markdown",
   "metadata": {
    "#solution": false,
    "#staff": false,
    "#student": false
   },
   "source": [
    "#newpage"
   ]
  },
  {
   "cell_type": "markdown",
   "metadata": {
    "#solution": false,
    "#staff": false,
    "#student": false
   },
   "source": [
    "## 3. Collecting Distinct Values ##\n",
    "\n",
    "In Homework 4 you found the expectation of each of the random variables below. **Go back and see how you did that, and then use the same ideas** to find the variance of each one. \n",
    "\n",
    "For one part you will need the fact that the SD of a geometric $(p)$ random variable is $\\frac{\\sqrt{q}}{p}$ where $q = 1-p$. We haven't proved that as the algebra takes a bit of work. We will prove it later in the course by conditioning.\n",
    "\n",
    "**(a)** A die is rolled $n$ times. Find the variance of number of faces that *do not* appear.\n",
    "\n",
    "**(b)** Use your answer to (a) to find the variance of the number of distinct faces that *do* appear in $n$ rolls of a die.\n",
    "\n",
    "**(c)** Find the variance of the number of times you have to roll a die till you have seen all of the faces."
   ]
  },
  {
   "cell_type": "markdown",
   "metadata": {
    "#solution": false,
    "#staff": false,
    "#student": false
   },
   "source": [
    "#newpage"
   ]
  },
  {
   "cell_type": "markdown",
   "metadata": {
    "#solution": false,
    "#staff": false,
    "#student": false
   },
   "source": [
    "## 4. Poisson-Binomial Distribution\n",
    "\n",
    "For this exercise, please refer to the theory in [Section 14.1](http://prob140.org/textbook/content/Chapter_14/01_Exact_Distribution_of_a_Sum.html#) and the code in [Section 14.2](http://prob140.org/textbook/content/Chapter_14/02_PGFs_in_NumPy.html).\n",
    "\n",
    "In Lab 1B you saw that a *Poisson-binomial* random variable is a sum of independent indicators that are not necessarily identically distributed: \n",
    "\n",
    "$X = I_1 + I_2 + \\cdots + I_n$ where $I_j$ has the Bernoulli $(p_j)$ distribution and $I_1, I_2, \\ldots, I_n$ are independent.\n",
    "\n",
    "**(a)** What is the probability generating function of a Bernoulli $(p)$ random variable? Provide a formula and then use the code cell below to define a function `indicator_pgf` that takes $p$ as its argument and returns the probability generating function of a Bernoulli $(p)$ random variable as a `NumPy` polynomial. Use as many lines as you need. The last line of the cell is there for you to check that your function is working."
   ]
  },
  {
   "cell_type": "code",
   "execution_count": null,
   "metadata": {
    "#solution": false,
    "#staff": false,
    "#student": true
   },
   "outputs": [],
   "source": [
    "\n",
    "# Answer to 4a\n",
    "\n",
    "def indicator_pgf(p):\n",
    "    ...\n",
    "    return ...\n",
    "\n",
    "print(indicator_pgf(0.4))"
   ]
  },
  {
   "cell_type": "markdown",
   "metadata": {
    "#solution": false,
    "#staff": false,
    "#student": false
   },
   "source": [
    "**(b)** For $j = 1, 2, \\ldots, 20$, let $p_j = 1/(j+1)$. Let $I_1, I_2, \\ldots, I_{20}$ be independent indicators such that $I_j$ has the Bernoulli $(p_j)$ distribution, and let $X = I_1 + I_2 + \\cdots + I_{20}$. Complete the code cell below so that `pgf_X` is the probability generating function of $X$ as a `NumPy` polynomial. Use as many lines as you need. The last two lines are there for you to check that your polynomial has the correct degree and that it is indeed a probability generating function."
   ]
  },
  {
   "cell_type": "code",
   "execution_count": null,
   "metadata": {
    "#solution": false,
    "#staff": false,
    "#student": true
   },
   "outputs": [],
   "source": [
    "\n",
    "# Answer to 4b\n",
    "\n",
    "...\n",
    "\n",
    "print(pgf_X)\n",
    "sum(pgf_X.c) # sum of coefficients"
   ]
  },
  {
   "cell_type": "markdown",
   "metadata": {
    "#solution": false,
    "#staff": false,
    "#student": false
   },
   "source": [
    "**(c)** Complete the cell below to plot the probability histogram of $X$. Do not add any more lines."
   ]
  },
  {
   "cell_type": "code",
   "execution_count": null,
   "metadata": {
    "#solution": false,
    "#staff": false,
    "#student": true
   },
   "outputs": [],
   "source": [
    "\n",
    "# Answer to 4c\n",
    "\n",
    "vals_X = ...\n",
    "probs_X = ...\n",
    "dist_X = Table()...\n",
    "Plot(dist_X)"
   ]
  },
  {
   "cell_type": "markdown",
   "metadata": {
    "#solution": false,
    "#staff": false,
    "#student": false
   },
   "source": [
    "**(d)** Complete the cell below to find the expectation, variance, and SD of $X$ using `p_array`. Do not add any more lines. Then run the cell below that to check your answers."
   ]
  },
  {
   "cell_type": "code",
   "execution_count": null,
   "metadata": {
    "#solution": false,
    "#staff": false,
    "#student": true
   },
   "outputs": [],
   "source": [
    "\n",
    "p_array = 1/np.arange(2, 22)\n",
    "ev_X = ...\n",
    "var_X = ...\n",
    "sd_X = ...\n",
    "ev_X, var_X, sd_X"
   ]
  },
  {
   "cell_type": "code",
   "execution_count": null,
   "metadata": {
    "#solution": false,
    "#staff": false,
    "#student": false
   },
   "outputs": [],
   "source": [
    "dist_X.ev(), dist_X.var(), dist_X.sd()"
   ]
  },
  {
   "cell_type": "markdown",
   "metadata": {
    "#solution": false,
    "#staff": false,
    "#student": false
   },
   "source": [
    "**(e)** Explain why the distribution of $X$ cannot be Poisson. Then show that the distribution of $X$ is not binomial either, as follows. If $X$ were binomial, what would $n$ have to be? Use that and your answer to Part (d) to see what $p$ would have to be. Use the code cell below to find the variance of that binomial distribution, and compare with your answer to Part (d)."
   ]
  },
  {
   "cell_type": "code",
   "execution_count": null,
   "metadata": {
    "#solution": false,
    "#staff": false,
    "#student": true
   },
   "outputs": [],
   "source": [
    "\n",
    "n = ...\n",
    "p = ...\n",
    "binomial_variance = ... \n",
    "binomial_variance"
   ]
  },
  {
   "cell_type": "markdown",
   "metadata": {
    "#solution": false,
    "#staff": false,
    "#student": false
   },
   "source": [
    "#newpage"
   ]
  },
  {
   "cell_type": "markdown",
   "metadata": {
    "#solution": false,
    "#staff": false,
    "#student": false
   },
   "source": [
    "## 5. Widths of Confidence Intervals ##\n",
    "In any part of this question that involves a sample size, you can assume the sample size is big enough for the Central Limit Theorem approximation to be good. You should answer on paper, but you can use the code cell provided below for arithmetic or to find standard normal percentages or percentiles. The appropriate libary has been imported at the top of this noteboo.\n",
    "\n",
    "**a)** A survey organization has used the methods of our class to construct an approximate 95% confidence interval for the mean annual income of households in a county. The interval runs from $\\$66,000$ to $\\$70,000$. If possible, find an approximate 98% confidence interval for the mean annual income of households in the county. If this is not possible, explain why not.\n",
    "\n",
    "**b)** A survey organization is going to take a simple random sample of $n$ voters from among all the voters in a state, to construct a 98% confidence interval for the proportion of voters who favor a proposition. Find an $n$ such that the total width of the confidence interval (left end to right end) will be no more than 0.06. Remember that you can bound the [variance of an indicator](http://prob140.org/textbook/content/Chapter_12/01_Definition.html#indicator)."
   ]
  },
  {
   "cell_type": "code",
   "execution_count": null,
   "metadata": {
    "#solution": false,
    "#staff": false,
    "#student": false
   },
   "outputs": [],
   "source": [
    "# Code cell for scratch work for Exercise 5"
   ]
  },
  {
   "cell_type": "markdown",
   "metadata": {
    "#solution": false,
    "#staff": false,
    "#student": false
   },
   "source": [
    "#newpage"
   ]
  },
  {
   "cell_type": "markdown",
   "metadata": {
    "#solution": false,
    "#staff": false,
    "#student": false
   },
   "source": [
    "## 6. Testing Hypotheses in the Gauss Model\n",
    "\n",
    "The [Gauss](https://en.wikipedia.org/wiki/Carl_Friedrich_Gauss) model for measurement error says that repeated measurements $X_1, X_2, \\ldots, X_n$ of the same quantity have the structure\n",
    "\n",
    "$$\n",
    "X_i = \\mu + \\epsilon_i, ~~~~~ 1 \\leq i \\leq n\n",
    "$$\n",
    "\n",
    "where $\\mu$ is an unknown constant called the *true value* and $\\epsilon_1, \\epsilon_2, \\ldots, \\epsilon_n$ are random error terms assumed to be i.i.d. with mean 0 and variance $\\sigma^2$. \n",
    "\n",
    "From a practical perspective, the true value $\\mu$ comes from the quantity being measured (for example, the true weight of an object). The error terms come from the measuring process (for example, from the balance being used for weighing). Thus $\\sigma$ is sometimes known because of extensive experience with the measuring process (for example, having used the same balance to weigh many different objects). \n",
    "\n",
    "So assume that the Gauss model holds with $\\sigma = 1$, and let $n = 100$. Suppose a data scientist wants to test the following hypotheses:\n",
    "\n",
    "- Null hypothesis $H_0$: $\\mu = 20$\n",
    "- Alternative hypothesis $H_A$: $\\mu \\neq 20$\n",
    "\n",
    "Suppose the data scientist wants to use the average measurement $\\bar{X}$ as the test statistic and reject the null hypothesis if $\\vert \\bar{X} - 20 \\vert > 0.175$.\n",
    "\n",
    "**(a)** Rewrite the decision rule by filling in the blanks with numbers: $\\vert \\bar{X} - 20 \\vert > 0.175 \\iff \\bar{X} < \\underline{~~~~~~~~} \\text{ or } \\bar{X} > \\underline{~~~~~~~~}$\n",
    "\n",
    "**(b) Level:** Find the approximate distribution of the test statistic $\\bar{X}$ under $H_0$, and use this distribution to find the approximate probability that the test rejects the null hypothesis if the null hypothesis is true. This probability is called the *level* of the test. In Data 8 we called it the cutoff for the p-value. \n",
    "\n",
    "Please write out your answer, and use the code cell below for scratch work. Remember that `stats.norm.cdf(x, mean, SD)` evaluates to the cdf of the normal $(\\text{mean, } \\text{SD}^2)$ distribution at the point $x$. The necessary modules have been imported at the top of this notebook.\n",
    "\n",
    "**(c) Power:** Suppose that in fact $\\mu = 20.5$ though the data scientist doesn't know this and is still performing the same test as above. Find the approximate distribution of the test statistic $\\bar{X}$ under the condition $\\mu = 20.5$, and use this distribution to find the approximate probability that the test rejects the null hypothesis if $\\mu = 20.5$. This probability is called the *power of the test against the fixed alternative $\\mu = 20.5$*. \n",
    "\n",
    "Please write out your answer, and use the code cell below for scratch work."
   ]
  },
  {
   "cell_type": "code",
   "execution_count": null,
   "metadata": {
    "#solution": false,
    "#staff": false,
    "#student": false
   },
   "outputs": [],
   "source": [
    "# Scratch work for Exercises 6b and 6c\n"
   ]
  },
  {
   "cell_type": "markdown",
   "metadata": {
    "#solution": false,
    "#staff": false,
    "#student": false
   },
   "source": [
    "**(d)** Complete the code cell below to plot the graph of the power of the test under the fixed alternative $\\mu = \\mu_A$ for $\\mu_A$ in the range `true_mu` below. Do not add any more lines.\n",
    "\n",
    "Computational note: First study the code below and compare with the output of the cell. "
   ]
  },
  {
   "cell_type": "code",
   "execution_count": null,
   "metadata": {
    "#solution": false,
    "#staff": false,
    "#student": false
   },
   "outputs": [],
   "source": [
    "mu_list = [10, 15, 20]  # It's also fine for this to be an array.\n",
    "\n",
    "# array of P(X_i < 12)\n",
    "# for X_i normal with mean = ith element of mu_list\n",
    "# and SD = 8\n",
    "stats.norm.cdf(12, mu_list, 8)"
   ]
  },
  {
   "cell_type": "code",
   "execution_count": null,
   "metadata": {
    "#solution": false,
    "#staff": false,
    "#student": true
   },
   "outputs": [],
   "source": [
    "\n",
    "# Answer to 6d\n",
    "\n",
    "true_mu = np.arange(19, 21, 0.05)\n",
    "power = ...\n",
    "\n",
    "plt.plot(true_mu, power, color='darkblue', lw=2)\n",
    "plt.xlabel('True value of $\\mu$')\n",
    "plt.title('Power of the Test');"
   ]
  },
  {
   "cell_type": "markdown",
   "metadata": {
    "#solution": false,
    "#staff": false,
    "#student": false
   },
   "source": [
    "**(e)** Interpret the graph. What is the test likely to do if the true value of $\\mu$ is far from 20, and what does the power converge to (be careful!) when the true value gets close to $20$?"
   ]
  },
  {
   "cell_type": "markdown",
   "metadata": {
    "#solution": false,
    "#staff": false,
    "#student": false
   },
   "source": [
    "#newpage"
   ]
  },
  {
   "cell_type": "markdown",
   "metadata": {
    "#solution": false,
    "#staff": false,
    "#student": false
   },
   "source": [
    "## Submission Instructions ##\n",
    "\n",
    "Many assignments throughout the course will have a written portion and a code portion. Please follow the directions below to properly submit both portions.\n",
    "\n",
    "### Written Portion ###\n",
    "*  Scan all the pages into a PDF. You can use any scanner or a phone using applications such as CamScanner. Please **DO NOT** simply take pictures using your phone. \n",
    "* Please start a new page for each question. If you have already written multiple questions on the same page, you can crop the image in CamScanner or fold your page over (the old-fashioned way). This helps expedite grading.\n",
    "* It is your responsibility to check that all the work on all the scanned pages is legible.\n",
    "\n",
    "### Code Portion ###\n",
    "* Save your notebook using File > Save and Checkpoint.\n",
    "* Generate a PDF file using File > Download as > PDF via LaTeX. This might take a few seconds and will automatically download a PDF version of this notebook.\n",
    "    * If you have issues, please make a follow-up post on the general HW 8 Ed thread.\n",
    "    \n",
    "### Submitting ###\n",
    "* Combine the PDFs from the written and code portions into one PDF.  [Here](https://smallpdf.com/merge-pdf) is a useful tool for doing so. \n",
    "* Submit the assignment to Homework 8 on Gradescope. \n",
    "* **Make sure to assign each page of your pdf to the correct question.**\n",
    "* **It is your responsibility to verify that all of your work shows up in your final PDF submission.**\n",
    "\n",
    "If you have questions about scanning or uploading your work, please post a follow-up to the [Ed thread](https://edstem.org/us/courses/24954/discussion/1695227) on this topic. "
   ]
  }
 ],
 "metadata": {
  "anaconda-cloud": {},
  "checksums": [
   "41c7cd602a4412e76fa92693a8966fea",
   "4ee85b316530863bdb4d44d6f0b01646",
   "617e9d925b5fe2cd6a35fdd67bbdf752",
   "0cd16835f01a065038ef45c8ed1c297c",
   "0ff1a0537aa1864e691699b9062ec00f",
   "640061103a186fd26f59746dd4d6de57",
   "2e5b9e81abf42aa0b28ae27117113c6c",
   "640061103a186fd26f59746dd4d6de57",
   "5cf6aa6380dd2ed531f34cfeb8f9d54e",
   "640061103a186fd26f59746dd4d6de57",
   "22b578ccd89c93cb4f6b37c3307ab45d",
   "e52b9f6e704f427c891011653a64a1ab",
   "ffa37178816d68d9528e9d342909628f",
   "7dca0df0d368cc11c7595b038ebe820e",
   "89b30f97559ca9f0df973b3ba95ce456",
   "cf3eec6863fc06c08b94751640fae52f",
   "c75e477e5c02a28a91d42c50f20b6ce0",
   "f22905c28b15eb968df967fb0decf2cc",
   "c487ce8667c98b8bfdb351828ee85254",
   "ad1e53967522a543a357713d61923fab",
   "f527e30991ac77f2f7597d396db289b5",
   "640061103a186fd26f59746dd4d6de57",
   "310c6014db7eb5e2c385b2479d3508d0",
   "9762f2659e2d94c6e6e97688e9a73e71",
   "640061103a186fd26f59746dd4d6de57",
   "1d08a01ec6d1f5cdeec6a6b8c6f8c930",
   "676400b82456ace5c959fb31762fd4c4",
   "696ef4f51f793f12f42a61463a8cfcb4",
   "15e24ee019ee1c730aae6a0118380128",
   "afbb722e66859ee7916a0b7786e89758",
   "580e12e058798baab3357bf7c98ec453",
   "640061103a186fd26f59746dd4d6de57",
   "3a813b062a93ab810d29e79e4c0f50cc"
  ],
  "kernelspec": {
   "display_name": "Python 3 (ipykernel)",
   "language": "python",
   "name": "python3"
  },
  "language_info": {
   "codemirror_mode": {
    "name": "ipython",
    "version": 3
   },
   "file_extension": ".py",
   "mimetype": "text/x-python",
   "name": "python",
   "nbconvert_exporter": "python",
   "pygments_lexer": "ipython3",
   "version": "3.9.13"
  },
  "number_of_pagebreaks": 6
 },
 "nbformat": 4,
 "nbformat_minor": 4
}
