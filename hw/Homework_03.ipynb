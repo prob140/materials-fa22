{
 "cells": [
  {
   "cell_type": "markdown",
   "metadata": {
    "#solution": false,
    "#staff": false,
    "#student": false
   },
   "source": [
    "<table align=\"left\" style=\"border-style: hidden\" class=\"table\"> <tr><td class=\"col-md-2\"><img style=\"float\" src=\"http://prob140.org/assets/icon_sp22_ugarte.png\" alt=\"Prob140 Logo\" style=\"width: 120px;\"/></td><td><div align=\"left\"><h3 style=\"margin-top: 0;\">Probability for Data Science</h3><h4 style=\"margin-top: 20px;\">UC Berkeley, Fall 2022</h4><p>Ani Adhikari</p>CC BY-NC-SA 4.0</div></td></tr></table><!-- not in pdf -->\n",
    "\n",
    "This content is protected and may not be shared, uploaded, or distributed."
   ]
  },
  {
   "cell_type": "code",
   "execution_count": null,
   "metadata": {
    "#solution": false,
    "#staff": false,
    "#student": false
   },
   "outputs": [],
   "source": [
    "import warnings\n",
    "warnings.filterwarnings('ignore')\n",
    "\n",
    "from datascience import *\n",
    "from prob140 import *\n",
    "%matplotlib inline\n",
    "import matplotlib.pyplot as plt\n",
    "plt.style.use('fivethirtyeight')\n",
    "import numpy as np\n",
    "from scipy import stats\n",
    "from scipy import special"
   ]
  },
  {
   "cell_type": "markdown",
   "metadata": {
    "#solution": false,
    "#staff": false,
    "#student": false
   },
   "source": [
    "# Homework 3 #"
   ]
  },
  {
   "cell_type": "markdown",
   "metadata": {
    "#solution": false,
    "#staff": false,
    "#student": false
   },
   "source": [
    "### Instructions\n",
    "\n",
    "Your homeworks have two components: a written portion and a portion that also involves code.  Written work should be completed on paper, and coding questions should be done in the notebook.  You are welcome to LaTeX your answers to the written portions, but staff will not be able to assist you with LaTeX related issues. It is your responsibility to ensure that both components of the homework are submitted completely and properly to Gradescope. **Make sure to assign each page of your pdf to the correct question.** Refer to the bottom of the notebook for submission instructions."
   ]
  },
  {
   "cell_type": "markdown",
   "metadata": {
    "#solution": false,
    "#staff": false,
    "#student": false
   },
   "source": [
    "### How to Do Your Homework ###\n",
    "The point of homework is for you to try your hand at using what you've learned in class. The steps to follow:\n",
    "\n",
    "- Go to lecture and sections, and also go over the relevant text sections before starting on the homework. This will remind you what was covered in class, and the text will typically contain examples not covered in lecture. The weekly Study Guide will list what you should read.\n",
    "- Work on some of the practice problems before starting on the homework.\n",
    "- Attempt the homework problems by yourself with the text, section work, and practice materials all at hand. Sometimes the week's lab will help as well. The two steps above will help this step go faster and be more fruitful.\n",
    "- At this point, seek help if you need it. Don't ask how to do the problem — ask how to get started, or for a nudge to get you past where you are stuck. Always say what you have already tried. That helps us help you more effectively.\n",
    "- For a good measure of your understanding, keep track of the fraction of the homework you can do by yourself or with minimal help. It's a better measure than your homework score, and only you can measure it."
   ]
  },
  {
   "cell_type": "markdown",
   "metadata": {
    "#solution": false,
    "#staff": false,
    "#student": false
   },
   "source": [
    "### Rules for Homework ###\n",
    "- Every answer should contain a calculation or reasoning. For example, a calculation such as $(1/3)(0.8) + (2/3)(0.7)$ or `sum([(1/3)*0.8, (2/3)*0.7])`is fine without further explanation or simplification. If we want you to simplify, we'll ask you to. But just ${5 \\choose 2}$ by itself is not fine; write \"we want any 2 out of the 5 frogs and they can appear in any order\" or whatever reasoning you used. Reasoning can be brief and abbreviated, e.g. \"product rule\" or \"not mutually exclusive.\"\n",
    "- You may consult others (see \"How to Do Your Homework\" above) but you must write up your own answers using your own words, notation, and sequence of steps.\n",
    "- We'll be using Gradescope. You must submit the homework according to the instructions at the end of homework set."
   ]
  },
  {
   "cell_type": "markdown",
   "metadata": {
    "#solution": false,
    "#staff": false,
    "#student": false
   },
   "source": [
    "## 1. College Degrees\n",
    "\n",
    "In the U.S., 38% of adults aged 25 and over have a four-year college degree.\n",
    "\n",
    "In each part below, write a math expression for the chance and provide a brief justification. Please use the appropriate summation, not \"...\". Then use the appropriate code cell to find the numerical value of the chance, using `stats.binom.pmf`, `stats.binom.cdf`, and arithmetic. See [the textbook](http://prob140.org/textbook/content/Chapter_06/01_Binomial_Distribution.html#binomial-probabilities-in-python) for a reference. The `stats` library of `scipy` has been imported in the top cell of this notebook.\n",
    "\n",
    "In what follows, we will use the term *population* to mean US adults aged 25 and over, and a *successful draw* to mean a draw that results in a person who has a four-year college degree.\n",
    "\n",
    "**a)** Suppose I draw from the population at random with replacement. What is the chance that at least one-third of my first 30 draws are successful?\n",
    "\n",
    "**b)** Suppose I draw from the population at random with replacement, till 10 of my draws are successful. What is the chance that I draw at most 30 times? How is this answer related to the answer in Part **a**?\n",
    "\n",
    "**c)** Suppose my friend and I both draw from the population at random with replacement, independently of each other. Suppose I make 30 draws and my friend makes 20 draws. What is the chance that I get more successful draws than my friend?"
   ]
  },
  {
   "cell_type": "code",
   "execution_count": null,
   "metadata": {
    "#solution": false,
    "#staff": false,
    "#student": true
   },
   "outputs": [],
   "source": [
    "\n",
    "# Answer to 4a (you can use more than one line of code)\n",
    "..."
   ]
  },
  {
   "cell_type": "code",
   "execution_count": null,
   "metadata": {
    "#solution": false,
    "#staff": false,
    "#student": true
   },
   "outputs": [],
   "source": [
    "\n",
    "# Answer to 4b (you can use more than one line of code)\n",
    "..."
   ]
  },
  {
   "cell_type": "code",
   "execution_count": null,
   "metadata": {
    "#solution": false,
    "#staff": false,
    "#student": true
   },
   "outputs": [],
   "source": [
    "\n",
    "# Answer to 4c (you can use more than one line of code)\n",
    "..."
   ]
  },
  {
   "cell_type": "markdown",
   "metadata": {
    "#solution": false,
    "#staff": false,
    "#student": false
   },
   "source": [
    "#newpage"
   ]
  },
  {
   "cell_type": "markdown",
   "metadata": {
    "#solution": false,
    "#staff": false,
    "#student": false
   },
   "source": [
    "## 2. Poisson Approximation at Both Ends ##\n",
    "Consider $n$ independent Bernoulli $(p)$ trials.\n",
    "\n",
    "**a)** Fill in the blanks with names of distributions along with parameters in parentheses: If $n = 1000$ and $p=0.003$, the distribution of the number of successes is exactly $\\underline{~~~~~~~~~~~~~~~~~~~~~~~~~~~}$ $(\\underline{~~~~~~~~~~~~ })$ and approximately $\\underline{~~~~~~~~~~~~~~~~~~~~~~ }$ $(\\underline{~~~~~~~~~~~~ })$.\n",
    "\n",
    "**b)** Let $n$ be large and let $p$ be close to 1. Find a Poisson approximation to $p_k$ (the chance of $k$ successes) by an appropriate use of the Poisson approximation to the binomial derived in the textbook. \n",
    "\n",
    "**Note:** Don't try to derive a new limit from scratch. Just use the limit already derived in the textbook, but appropriately.\n",
    "\n",
    "**c)** Plot the probability histogram of the binomial (1000, 0.997) distribution, and overlay your Poisson approximation from part (b). For computing Poisson probabilities, see the [textbook](http://prob140.org/textbook/content/Chapter_06/06_Law_of_Small_Numbers.html#poisson-probabilities-in-python). Please don't plot the entire range of the binomial. Choose an informative range of values on the horizontal axis."
   ]
  },
  {
   "cell_type": "code",
   "execution_count": null,
   "metadata": {
    "#solution": false,
    "#staff": false,
    "#student": true
   },
   "outputs": [],
   "source": [
    "# Answer to 5c\n",
    "\n",
    "n = 1000\n",
    "p = 0.997\n",
    "\n",
    "k = ...                # array of possible values\n",
    "binomial_probs = ...   # array of exact binomial probabilities\n",
    "\n",
    "def poisson_approximation_pmf(j):\n",
    "    \"\"\"Returns the Poisson approximation to the\n",
    "    exact binomial probability of j successes\"\"\"\n",
    "    return ...\n",
    "\n",
    "exact_binomial = Table().values(k).probabilities(...)\n",
    "poisson_approximation = Table().values(k).probability_function(...)\n",
    "\n",
    "Plots(...)\n",
    "plt.xlim(..., ...)"
   ]
  },
  {
   "cell_type": "markdown",
   "metadata": {
    "#solution": false,
    "#staff": false,
    "#student": false
   },
   "source": [
    "#newpage"
   ]
  },
  {
   "cell_type": "markdown",
   "metadata": {
    "#solution": false,
    "#staff": false,
    "#student": false
   },
   "source": [
    "## 3. Related Distribution Families ##\n",
    "\n",
    "As you have seen, the binomial distribution is closely related to the hypergeometric and Poisson distributions. Here are two more connections.\n",
    "\n",
    "**Note:** Both of the connections arise via conditioning. For an example of how to go about finding the conditional distribution of one random variable given the value of another, study the steps in [Section 6.2.3](http://prob140.org/textbook/content/Chapter_06/02_Examples.html#conditional-distribution-of-the-trial-that-results-in-the-first-success) of the textbook.  \n",
    "\n",
    "**a)** Let $1 \\le n < m$ be integers. Consider $m$ i.i.d. Bernoulli trials with probability of $p$ of success on each trial. Let $X$ be the number of successes in the first $n$ trials and let $S$ be the number of successes in all $m$ trials. \n",
    "\n",
    "For a fixed integer $s$, find the conditional distribution of $X$ given $S=s$. Identify it as one of the famous ones and provide the parameters in terms of $m$, $n$, and $s$.\n",
    "\n",
    "**b)** Let $X$ and $Y$ be independent random variables such that $X$ has the Poisson $(\\mu)$ distribution and $Y$ has the Poisson $(\\lambda)$ distribution. \n",
    "\n",
    "For a fixed integer $n$, find the conditional distribution of $X$ given  $X+Y = n$. Identify it as one of the famous ones and provide the parameters in terms of $n$, $\\mu$, and $\\lambda$."
   ]
  },
  {
   "cell_type": "markdown",
   "metadata": {
    "#solution": false,
    "#staff": false,
    "#student": false
   },
   "source": [
    "#newpage"
   ]
  },
  {
   "cell_type": "markdown",
   "metadata": {
    "#solution": false,
    "#staff": false,
    "#student": false
   },
   "source": [
    "## 4. Counting Categories\n",
    "\n",
    "In each part below, write the probabilities as math expressions. You don't have to find any numerical values. But please make sure there are **no infinite sums** in your answers. For distributions, you can just provide names and parameters if they are applicable. \n",
    "\n",
    "**a)** 18 dice are rolled. Let $X$ be the number of times the face with 1 spot appears. Let $Y$ be the number of times a multiple of 3 appears. What is the joint distribution of $X$ and $Y$? [Be careful about the possible values of the pair $(X, Y)$.]\n",
    "\n",
    "**b)** 18 dice are rolled. Find the chance that two of the faces appear 5 times each, another two faces appear 3 times each, and the remaining two faces appear 1 time each.\n",
    "\n",
    "**c)** Repeat Part **b** in the case when the number of dice rolled isn't 18 but is instead a random number that has the Poisson  distribution.\n",
    "\n",
    "**d)** As in Part **c**, roll a random number of dice, where the random number has a Poisson  distribution. Don't touch any die that shows the face with six spots. If there are any other dice (that is, if there are dice that don't show six spots), roll those dice one more time. Then stop.\n",
    "\n",
    "Let $S$ be the total number of dice that show the face with six spots when you stop. Find the distribution of $S$."
   ]
  },
  {
   "cell_type": "markdown",
   "metadata": {
    "#solution": false,
    "#staff": false,
    "#student": false
   },
   "source": [
    "## Submission Instructions ##\n",
    "\n",
    "Many assignments throughout the course will have a written portion and a code portion. Please follow the directions below to properly submit both portions.\n",
    "\n",
    "### Written Portion ###\n",
    "*  Scan all the pages into a PDF. You can use any scanner or a phone using applications such as CamScanner. Please **DO NOT** simply take pictures using your phone. \n",
    "* Please start a new page for each question. If you have already written multiple questions on the same page, you can crop the image in CamScanner or fold your page over (the old-fashioned way). This helps expedite grading.\n",
    "* It is your responsibility to check that all the work on all the scanned pages is legible.\n",
    "\n",
    "### Code Portion ###\n",
    "* Save your notebook using File > Save and Checkpoint.\n",
    "* Generate a PDF file using File > Download as > PDF via LaTeX. This might take a few seconds and will automatically download a PDF version of this notebook.\n",
    "    * If you have issues, please make a follow-up post on the general HW 3 Ed thread.\n",
    "    \n",
    "### Submitting ###\n",
    "* Combine the PDFs from the written and code portions into one PDF.  [Here](https://smallpdf.com/merge-pdf) is a useful tool for doing so. \n",
    "* Submit the assignment to Homework 3 on Gradescope. \n",
    "* **Make sure to assign each page of your pdf to the correct question.**\n",
    "* **It is your responsibility to verify that all of your work shows up in your final PDF submission.**\n",
    "\n",
    "If you have questions about scanning or uploading your work, please post a follow-up to the [Ed thread](https://edstem.org/us/courses/24954/discussion/1695227) on this topic. "
   ]
  },
  {
   "cell_type": "code",
   "execution_count": null,
   "metadata": {
    "#solution": false,
    "#staff": false,
    "#student": false
   },
   "outputs": [],
   "source": []
  }
 ],
 "metadata": {
  "checksums": [
   "41c7cd602a4412e76fa92693a8966fea",
   "2ce4f3ce2f1b8377038d711892e9e81b",
   "ca466c40003089a428b668a82180c6c6",
   "b12c9d8951657e23dabfff555fd81a36",
   "e8b146b4314b9ff8608529b2cf2e2d0e",
   "5e382e32f1416ebdbc3411b88ff3b874",
   "3b2b8f124ec607cff2ad0db5b26006aa",
   "0f2b27406ee9ac794d6f282badd96042",
   "96b903a7b838135b9f31cc878e6507c0",
   "8c040fb7ca7b470da5740b3b5eba9458",
   "640061103a186fd26f59746dd4d6de57",
   "d37db7cf18cbc8f5a0891b41e7230392",
   "1aa32aea432ae498bb5e4bbd01abe8a0",
   "640061103a186fd26f59746dd4d6de57",
   "6438e96a76d94de10f464c96b20a3749",
   "640061103a186fd26f59746dd4d6de57",
   "1eb8804ffd1357bf5a115a6c75398d87",
   "1a1fbd08a0b6ac3c36253a079948ed8d",
   "d41d8cd98f00b204e9800998ecf8427e"
  ],
  "kernelspec": {
   "display_name": "Python 3 (ipykernel)",
   "language": "python",
   "name": "python3"
  },
  "language_info": {
   "codemirror_mode": {
    "name": "ipython",
    "version": 3
   },
   "file_extension": ".py",
   "mimetype": "text/x-python",
   "name": "python",
   "nbconvert_exporter": "python",
   "pygments_lexer": "ipython3",
   "version": "3.9.13"
  },
  "number_of_pagebreaks": 3
 },
 "nbformat": 4,
 "nbformat_minor": 4
}
