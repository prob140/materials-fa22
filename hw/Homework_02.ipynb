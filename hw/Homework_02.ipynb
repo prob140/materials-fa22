{
 "cells": [
  {
   "cell_type": "markdown",
   "metadata": {
    "#solution": false,
    "#staff": false,
    "#student": false
   },
   "source": [
    "<table align=\"left\" style=\"border-style: hidden\" class=\"table\"> <tr><td class=\"col-md-2\"><img style=\"float\" src=\"http://prob140.org/assets/icon_sp22_ugarte.png\" alt=\"Prob140 Logo\" style=\"width: 120px;\"/></td><td><div align=\"left\"><h3 style=\"margin-top: 0;\">Probability for Data Science</h3><h4 style=\"margin-top: 20px;\">UC Berkeley, Fall 2022</h4><p>Ani Adhikari</p>CC BY-NC-SA 4.0</div></td></tr></table><!-- not in pdf -->\n",
    "\n",
    "This content is protected and may not be shared, uploaded, or distributed."
   ]
  },
  {
   "cell_type": "code",
   "execution_count": null,
   "metadata": {
    "#solution": false,
    "#staff": false,
    "#student": false
   },
   "outputs": [],
   "source": [
    "from prob140 import *\n",
    "from datascience import *\n",
    "import numpy as np\n",
    "from scipy import special\n",
    "\n",
    "import matplotlib.pyplot as plt\n",
    "%matplotlib inline\n",
    "import matplotlib\n",
    "matplotlib.style.use('fivethirtyeight')"
   ]
  },
  {
   "cell_type": "markdown",
   "metadata": {
    "#solution": false,
    "#staff": false,
    "#student": false
   },
   "source": [
    "# Homework 2 #"
   ]
  },
  {
   "cell_type": "markdown",
   "metadata": {
    "#solution": false,
    "#staff": false,
    "#student": false
   },
   "source": [
    "### Instructions\n",
    "\n",
    "Your homeworks have two components: a written portion and a portion that also involves code.  Written work should be completed on paper, and coding questions should be done in the notebook.  You are welcome to LaTeX your answers to the written portions, but staff will not be able to assist you with LaTeX related issues. It is your responsibility to ensure that both components of the homework are submitted completely and properly to Gradescope. Refer to the bottom of the notebook for submission instructions."
   ]
  },
  {
   "cell_type": "markdown",
   "metadata": {
    "#solution": false,
    "#staff": false,
    "#student": false
   },
   "source": [
    "### How to Do Your Homework ###\n",
    "The point of homework is for you to try your hand at using what you've learned in class. The steps to follow:\n",
    "\n",
    "- Go to lecture and sections, and also go over the relevant text sections before starting on the homework. This will remind you what was covered in class, and the text will typically contain examples not covered in lecture. The weekly Study Guide will list what you should read.\n",
    "- Work on some of the practice problems before starting on the homework.\n",
    "- Attempt the homework problems by yourself with the text, section work, and practice materials all at hand. Sometimes the week's lab will help as well. The two steps above will help this step go faster and be more fruitful.\n",
    "- At this point, seek help if you need it. Don't ask how to do the problem — ask how to get started, or for a nudge to get you past where you are stuck. Always say what you have already tried. That helps us help you more effectively.\n",
    "- For a good measure of your understanding, keep track of the fraction of the homework you can do by yourself or with minimal help. It's a better measure than your homework score, and only you can measure it."
   ]
  },
  {
   "cell_type": "markdown",
   "metadata": {
    "#solution": false,
    "#staff": false,
    "#student": false
   },
   "source": [
    "### Rules for Homework ###\n",
    "- Every answer should contain a calculation or reasoning. For example, a calculation such as $(1/3)(0.8) + (2/3)(0.7)$ or `sum([(1/3)*0.8, (2/3)*0.7])`is fine without further explanation or simplification. If we want you to simplify, we'll ask you to. But just ${5 \\choose 2}$ by itself is not fine; write \"we want any 2 out of the 5 frogs and they can appear in any order\" or whatever reasoning you used. Reasoning can be brief and abbreviated, e.g. \"product rule\" or \"not mutually exclusive.\"\n",
    "- You may consult others (see \"How to Do Your Homework\" above) but you must write up your own answers using your own words, notation, and sequence of steps.\n",
    "- We'll be using Gradescope. You must submit the homework according to the instructions at the end of homework set."
   ]
  },
  {
   "cell_type": "markdown",
   "metadata": {
    "#solution": false,
    "#staff": false,
    "#student": false
   },
   "source": [
    "## 1. Random Coin ##\n",
    "\n",
    "This exercise is an introduction to experiments in which randomizing a parameter can affect dependence and independence. The setting is simple but powerful: it demonstrates some fundamental ideas of Bayesian prediction. We will use the same ideas in more complex settings later in the course.\n",
    "\n",
    "Suppose you have a coin that has a fixed (non-random) probability $p$ of heads. Under this assumption the tosses are independent, that is, knowing the results of some tosses doesn't change probabilities for how other tosses will come out. So for example the chance of two heads in two tosses is $p \\cdot p$.\n",
    "\n",
    "Now let's see what happens when the coin is picked randomly from a bunch of different coins. In this situation, the chance of heads is random.\n",
    "\n",
    "In a bag of coins, a proportion $f$ of the coins are fair; assume $0 < f < 1$. Of the remaining coins, half are biased towards tails and land heads with chance 0.1; the other half land heads with chance 0.9.\n",
    "\n",
    "A coin is picked at random from the bag and tossed twice. Define the following events.\n",
    "\n",
    "- $C_F$ is the event that the selected coin is fair, $C_T$ is the event that the selected coin is biased towards tails, and $C_H$ is the event that the selected coin is biased towards heads.\n",
    "- $H_1$ is the event that the first toss lands heads and $H_2$ is the event that the second toss lands heads.\n",
    "\n",
    "**a)** Find $P(C_H)$.\n",
    "\n",
    "**b)** Calculate $P(H_1)$. Simplify the answer as much as possible and then explain it by symmetry.\n",
    "\n",
    "**c)** Without calculation, fill in the blank with one of the symbols $>$, $<$, or $=$. Explain your reasoning. \n",
    "\n",
    "$P(C_H \\mid H_1) ~ \\underline{~~~~~~~~~~~~~~~} ~ P(C_H)$\n",
    "\n",
    "**d)** Now calculate $P(C_H \\mid H_1)$ and show that it is consistent with your answers to Parts **a** and **c**.\n",
    "\n",
    "**e)** Find $P(H_2)$ and (carefully!) $P(H_1H_2)$. Is $P(H_1H_2) = P(H_1)P(H_2)$?\n",
    "\n",
    "**f)** Fill in the blank with one of the symbols $>$, $<$, or $=$. Justify your choice by calculation and also explain it intuitively.\n",
    "\n",
    "$P(H_2 \\mid H_1) ~ \\underline{~~~~~~~~~~~~~~~} ~ P(H_2)$"
   ]
  },
  {
   "cell_type": "markdown",
   "metadata": {
    "#solution": false,
    "#staff": false,
    "#student": false
   },
   "source": [
    "#newpage"
   ]
  },
  {
   "cell_type": "markdown",
   "metadata": {
    "#solution": false,
    "#staff": false,
    "#student": false
   },
   "source": [
    "## 2. Extrema and Tails ##\n",
    "\n",
    "**THIS IS A HUGELY IMPORTANT EXERCISE** or I wouldn't be using bold all-caps. Make sure you understand the logic and especially the suggested visualization; that's what's going to be applied later. Note also how the logic can be applied or modified in variations of the initial problem setting.\n",
    "\n",
    "The maximum and minimum of a random sample of numbers are called the *extrema* of the sample. Distributions of extrema are best described using the left or right hand tail probabilities. In this exercise you will see how.\n",
    "\n",
    "Fix a positive integer $n$. In data science, a *sample* is a sequence of random variables $X_1, X_2, \\ldots, X_n$ defined on an outcome space, and $n$ is called the *sample size*. \n",
    "\n",
    "Suppose our sample is positive integer valued, as follows. Fix a positive integer $N$ and suppose each $X_i$ has possible values in the set $\\{1, 2, 3, \\ldots, N\\}$. \n",
    "\n",
    "Let $V_n = \\min\\{X_1, X_2, \\ldots, X_n\\}$ be the *sample minimum* and let $W_n = \\max\\{X_1, X_2, \\ldots, X_n\\}$ be the *sample maximum*.\n",
    "\n",
    "As you know from Data 8, each of $V_n$ and $W_n$ is a [statistic](https://inferentialthinking.com/chapters/10/3/Empirical_Distribution_of_a_Statistic.html#statistic). \n",
    "\n",
    "**a) [Describing an event]** The event that a sample maximum is \"small\" is straightforward to describe in terms of the individual elements of the sample. To see this, fill in the blank with an appropriate mathematical symbol or English phrase, making no further assumptions about the random variables involved. Justify your answer.\n",
    "\n",
    "Fix an integer $k$ such that $1 \\le k \\le N$. The event \"$W_n \\le k$\" is the same as the event \"each of $X_1, X_2, \\ldots, X_n$ is $\\underline{~~~~~~~~~~~~~~~~~~~~~~~~~~~~~~~~~~~~~~~~~~~~~~~~~~~~~~~} k$\".\n",
    "\n",
    "It might help to draw the number line, mark the integers 1 through $N$, and put a special mark on the integer $k$. For the maximum to be at or to the left of $k$, where do all the $X$'s have to be?\n",
    "\n",
    "**b) [Using a probability model]** In Data 8, you found empirical distributions of statistics by simulation. Now you will start finding the exact distribution of a statistic by probability theory. For this, you need a probability model. Let's start with a simple one. Suppose $n$ draws are made at random with replacement from the numbers $\\{1, 2, 3, \\ldots, N\\}$. Let $X_i$ be the number that appears on the $i$th draw. Use Part **a** to find $P(W_n \\le k)$, for each $k$ in the range $1 \\le k \\le N$.\n",
    "\n",
    "**c) [Using tail probabilities]** Continue under the assumptions in Part **b**. Use your sketch in Part **a** to express the event $\\{W_n = k\\}$ in terms of any subset of the events $\\{W_n \\le 1\\}, \\{W_n \\le 2\\}, \\ldots, \\{W_n \\le N\\}$. Use this and Part **b** to find $P(W_n = k)$ for $1 \\le k \\le N$ and to show algebraically that $\\sum_{k=1}^N P(W_n = k) = 1$. Congratulations – you have found the distribution of the sample maximum for a sample of independent uniform draws from the integers 1 through $N$. \n",
    "\n",
    "**d) [Changing the statistic]** Continue under the assumptions in Part **b**. Modify Parts **a** through **c** to find the distribution of the sample minimum $V_n$, as follows. For the event that the sample minimum is \"large\", fill in the blank with an appropriate mathematical symbol or English phrase. \n",
    "\n",
    "The event \"$V_n > k$\" is the same as the event \"each of $X_1, X_2, \\ldots, X_n$ is $\\underline{~~~~~~~~~~~~~~~~~~~~~~~~~~~~~~~~~~~~~~~~~~~~~~~~~~~~~~~} k$\".\n",
    "\n",
    "Use this observation and the ideas of the previous parts to find $P(V_n = k)$ for $1 \\le k \\le N$.\n",
    "\n",
    "**e) [Changing the probability model]** Now assume $N > n$ and suppose $X_1, X_2, \\ldots, X_n$ are draws made at random without replacement from the numbers $\\{1, 2, 3, \\ldots, N\\}$. Apply the logic in Parts **a** and **c** to find the distribution of the sample maximum $W_n$.\n",
    "\n",
    "In this part is is very important that you think carefully about the possible values of $W_n$ before calculating chances."
   ]
  },
  {
   "cell_type": "markdown",
   "metadata": {
    "#solution": false,
    "#staff": false,
    "#student": false
   },
   "source": [
    "#newpage"
   ]
  },
  {
   "cell_type": "markdown",
   "metadata": {
    "#solution": false,
    "#staff": false,
    "#student": false
   },
   "source": [
    "## 3. Two IID Random Variables ##\n",
    "\n",
    "Let $N \\ge 5$ be a fixed integer. Let $X_1$ and $X_2$ be independent and identically distributed (i.i.d.) random variables, and let $P(X_1 = i) = p_i$ where $0 \\le i \\le N$ and $\\sum_{i=0}^N p_i = 1$.\n",
    "\n",
    "Provide (with justification) expressions for the following probabilities, in terms of $p_0, p_1, \\ldots, p_N$.\n",
    "\n",
    "**a)** $P(X_1 = X_2)$\n",
    "\n",
    "**b)** $P(X_1 = X_2 \\mid X_1 > 3)$\n",
    "\n",
    "**c)** $P(X_1 \\ne X_2 \\mid X_1 > 3)$\n",
    "\n",
    "**d)** $P(X_1 + X_2 \\le N \\mid X_1 = 2)$\n",
    "\n",
    "**e)** $P(X_1 + X_2 \\le N \\mid X_1 > 2)$"
   ]
  },
  {
   "cell_type": "markdown",
   "metadata": {
    "#solution": false,
    "#staff": false,
    "#student": false
   },
   "source": [
    "## 4. Breakout Rooms ##\n",
    "\n",
    "Among 24 students in a Zoom meeting, there are six each of freshmen, sophomores, juniors, and seniors. The 24 students are split at random into four breakout rooms of six students each.\n",
    "\n",
    "**a)** What is the distribution of the number of freshmen in Breakout Room 1? **Why?**\n",
    "\n",
    "**b)** What is the joint distribution of the numbers of freshmen in Breakout Rooms 1 and 4? **Why?**\n",
    "\n",
    "[Note: You don't have to write out a joint distribution table. A more compact way is to provide a formula. Remember to specify the possible values appropriately.]\n",
    "\n",
    "**c)** What is the chance that in at least one of the breakout rooms all the students are in the same year? **Explain your calculation.**"
   ]
  },
  {
   "cell_type": "markdown",
   "metadata": {
    "#solution": false,
    "#staff": false,
    "#student": false
   },
   "source": [
    "#newpage"
   ]
  },
  {
   "cell_type": "markdown",
   "metadata": {
    "#solution": false,
    "#staff": false,
    "#student": false
   },
   "source": [
    "## 5. Exact Value or Bound ##\n",
    "In each part below, find the exact value of the probability if it is possible to do so with the information given. If it is not possible, provide the best lower and upper bounds you can. **Explain your choices.**\n",
    "\n",
    "**a)** the chance that at least one of 10 flights at an airport is late, if each flight at the airport has a 1% chance of being late\n",
    "\n",
    "**b)** the chance that not all suits appear in a bridge hand of 13 cards dealt at random without replacement from a standard deck \n",
    "\n",
    "[A standard deck consists of 13 cards in each of 4 suits, making 52 cards in all.]\n",
    "\n",
    "**c)** the chance that all $s$ office hours slots are selected, if each of $g$ GSIs selects one of the $s$ slots at random without being influenced by the choices of others\n",
    "\n",
    "**d)** the chance that it rains every day next week if the daily chances of rain are given by\n",
    "\n",
    "|Sun|Mon|Tue|Wed|Thu|Fri|Sat|\n",
    "|-|-|-|-|-|-|-|\n",
    "|$$0.9$$|$$0.95$$|$$0.95$$|$$0.9$$|$$0.9$$|$$0.85$$|$$0.8$$|"
   ]
  },
  {
   "cell_type": "markdown",
   "metadata": {
    "#solution": false,
    "#staff": false,
    "#student": false
   },
   "source": [
    "#newpage"
   ]
  },
  {
   "cell_type": "markdown",
   "metadata": {
    "#solution": false,
    "#staff": false,
    "#student": false
   },
   "source": [
    "## 6. Counting Categories ##\n",
    "In each part below, remember to **explain your answer. Don't just write down a formula.** You don't have to provide decimal answers. \n",
    "\n",
    "**Note:** See the video right at the bottom of [Section 5.4](http://prob140.org/textbook/content/Chapter_05/04_Sampling_Without_Replacement.html) (below the last Quick Check) for an effective approach.\n",
    "\n",
    "A population consists of 6 individuals in each of 4 categories $A$, $B$, $C$, and $D$. A simple random sample of 12 individuals is chosen from the population.\n",
    "\n",
    "**a)** Find the chance that the sample contains equal numbers of individuals in the four categories.\n",
    "\n",
    "**b)** Find the chance that the sample contains 5 individuals in one category, 4 in another, 2 in a third, and 1 in the remaining category.\n",
    "\n",
    "**c)** Find the chance that the sample contains 4 individuals in each of two categories, 3 individuals in another, and 1 in the remaining category.\n",
    "\n",
    "**d)** Find the chance that the sample contains all 6 individuals in one category and equal numbers in the other three.\n",
    "\n"
   ]
  },
  {
   "cell_type": "markdown",
   "metadata": {
    "#solution": false,
    "#staff": false,
    "#student": false
   },
   "source": [
    "#newpage"
   ]
  },
  {
   "cell_type": "markdown",
   "metadata": {
    "#solution": false,
    "#staff": false,
    "#student": false
   },
   "source": [
    "## Submission Instructions ##\n",
    "\n",
    "Many assignments throughout the course will have a written portion and a code portion. Please follow the directions below to properly submit both portions.\n",
    "\n",
    "### Written Portion ###\n",
    "*  Scan all the pages into a PDF. You can use any scanner or a phone using applications such as CamScanner. Please **DO NOT** simply take pictures using your phone. \n",
    "* Please start a new page for each question. If you have already written multiple questions on the same page, you can crop the image in CamScanner or fold your page over (the old-fashioned way). This helps expedite grading.\n",
    "* It is your responsibility to check that all the work on all the scanned pages is legible.\n",
    "\n",
    "### Code Portion ###\n",
    "* Save your notebook using File > Save and Checkpoint.\n",
    "* Generate a PDF file using File > Download as > PDF via LaTeX. This might take a few seconds and will automatically download a PDF version of this notebook.\n",
    "    * If you have issues, please make a follow-up post on the general HW 1 Ed thread.\n",
    "    \n",
    "### Submitting ###\n",
    "* Combine the PDFs from the written and code portions into one PDF.  [Here](https://smallpdf.com/merge-pdf) is a useful tool for doing so. \n",
    "* Submit the assignment to Homework 2 on Gradescope. \n",
    "* **Make sure to assign each page of your pdf to the correct question.**\n",
    "* **It is your responsibility to verify that all of your work shows up in your final PDF submission.**\n",
    "\n",
    "If you have questions about scanning or uploading your work, please post a follow-up to the [Ed thread](https://edstem.org/us/courses/24954/discussion/1695227) on this topic. "
   ]
  },
  {
   "cell_type": "code",
   "execution_count": null,
   "metadata": {
    "#solution": false,
    "#staff": false,
    "#student": false
   },
   "outputs": [],
   "source": []
  }
 ],
 "metadata": {
  "checksums": [
   "41c7cd602a4412e76fa92693a8966fea",
   "510b88354262c31ba9053a0c05b44859",
   "b33297e1eff1902e80bcc722d659baa9",
   "617e9d925b5fe2cd6a35fdd67bbdf752",
   "e8b146b4314b9ff8608529b2cf2e2d0e",
   "5e382e32f1416ebdbc3411b88ff3b874",
   "99bf4d77bc1361d14e4b49f3d93d9c30",
   "640061103a186fd26f59746dd4d6de57",
   "8fb4000de8b0a8e4ed8d8a57732c84fa",
   "640061103a186fd26f59746dd4d6de57",
   "f3e130d9212f538197b2043d835926ad",
   "46ca326e49bbf309499f08911e240808",
   "640061103a186fd26f59746dd4d6de57",
   "15fd438410012bd05ac97c49009ec8f1",
   "640061103a186fd26f59746dd4d6de57",
   "95b7e7481c1c7bd19ac48edac05a88dc",
   "640061103a186fd26f59746dd4d6de57",
   "2031ba01984e84dd18895cc5dbfaea2a",
   "d41d8cd98f00b204e9800998ecf8427e"
  ],
  "kernelspec": {
   "display_name": "Python 3",
   "language": "python",
   "name": "python3"
  },
  "language_info": {
   "codemirror_mode": {
    "name": "ipython",
    "version": 3
   },
   "file_extension": ".py",
   "mimetype": "text/x-python",
   "name": "python",
   "nbconvert_exporter": "python",
   "pygments_lexer": "ipython3",
   "version": "3.8.3"
  },
  "number_of_pagebreaks": 5
 },
 "nbformat": 4,
 "nbformat_minor": 2
}
