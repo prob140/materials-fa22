{
 "cells": [
  {
   "cell_type": "markdown",
   "metadata": {
    "#solution": false,
    "#staff": false,
    "#student": false
   },
   "source": [
    "<table align=\"left\" style=\"border-style: hidden\" class=\"table\"> <tr><td class=\"col-md-2\"><img style=\"float\" src=\"http://prob140.org/assets/icon_sp22_ugarte.png\" alt=\"Prob140 Logo\" style=\"width: 120px;\"/></td><td><div align=\"left\"><h3 style=\"margin-top: 0;\">Probability for Data Science</h3><h4 style=\"margin-top: 20px;\">UC Berkeley, Fall 2022</h4><p>Ani Adhikari</p>CC BY-NC-SA 4.0</div></td></tr></table><!-- not in pdf -->\n",
    "\n",
    "This content is protected and may not be shared, uploaded, or distributed."
   ]
  },
  {
   "cell_type": "code",
   "execution_count": null,
   "metadata": {
    "#solution": false,
    "#staff": false,
    "#student": false
   },
   "outputs": [],
   "source": [
    "import warnings\n",
    "warnings.filterwarnings('ignore')\n",
    "\n",
    "from prob140 import *\n",
    "from datascience import *\n",
    "import numpy as np\n",
    "from scipy import stats\n",
    "\n",
    "import matplotlib.pyplot as plt\n",
    "%matplotlib inline\n",
    "import matplotlib\n",
    "matplotlib.style.use('fivethirtyeight')"
   ]
  },
  {
   "cell_type": "markdown",
   "metadata": {
    "#solution": false,
    "#staff": false,
    "#student": false
   },
   "source": [
    "# Homework 4 #"
   ]
  },
  {
   "cell_type": "markdown",
   "metadata": {
    "#solution": false,
    "#staff": false,
    "#student": false
   },
   "source": [
    "### Instructions\n",
    "\n",
    "Your homeworks have two components: a written portion and a portion that also involves code.  Written work should be completed on paper, and coding questions should be done in the notebook.  You are welcome to $\\LaTeX$ your answers to the written portions, but staff will not be able to assist you with $\\LaTeX$ related issues. It is your responsibility to ensure that both components of the homework are submitted completely and properly to Gradescope. **Make sure to assign each page of your pdf to the correct question.** Refer to the bottom of the notebook for submission instructions."
   ]
  },
  {
   "cell_type": "markdown",
   "metadata": {
    "#solution": false,
    "#staff": false,
    "#student": false
   },
   "source": [
    "## 1. Expectation of a Sample Minimum\n",
    "\n",
    "**Highly Recommended:** For both parts below, go back to Homework 2 Question 2 and see how you worked with sample minima there. That approach will be very useful but in a different way for each part.\n",
    "\n",
    "**a)** For $1 \\le i \\le 5$, let $X_i$ have the geometric $(p_i)$ distribution on $\\{1, 2, 3, ... \\}$. Suppose $X_1, X_2, \\ldots, X_5$ are independent. \n",
    "\n",
    "Let $M = \\min\\{X_i: 1 \\le i \\le 5\\}$. \n",
    "\n",
    "- Find the distribution of $M$. Identify it as one of the famous ones and provide its name and parameters. You are welcome to use the notation $q_i = 1-p_i$.\n",
    "- Hence find the expectation of $M$.\n",
    "\n",
    "**b)** There are 300 students in a probability class. Each student tosses a coin 100 times and notes the number of heads. Let $S$ be the smallest of the 300 numbers noted. \n",
    "\n",
    "- Let $F$ be the cdf of the binomial $(100, 0.5)$ distribution. Write a math formula for $E(S)$ in terms of $F$. Explain your formula.\n",
    "- Complete the code cell below by writing an expression that evaluates to $E(S)$. To write just one expression, use array operations. It helps that if `k` is an array, `stats.norm.cdf(k, 100, 0.5)` evaluates to an array containing the binomial cdf evaluated at each element of `k`."
   ]
  },
  {
   "cell_type": "code",
   "execution_count": null,
   "metadata": {
    "#solution": false,
    "#staff": false,
    "#student": true
   },
   "outputs": [],
   "source": [
    "\n",
    "# Answer to 1b\n",
    "\n",
    "ev_S = ...\n",
    "ev_S"
   ]
  },
  {
   "cell_type": "markdown",
   "metadata": {
    "#solution": false,
    "#staff": false,
    "#student": false
   },
   "source": [
    "## 2. Poisson Moments ##\n",
    "\n",
    "For $k = 1, 2, 3, \\ldots$, the *$k$th moment* of a random variable $X$ is defined as $E(X^k)$. The term comes from physics where the principle of moments is used in finding the center of gravity of a system. Remember that the expectation or first moment $E(X)$ is the center of gravity of the distribution of $X$.\n",
    "\n",
    "Let $X$ have the Poisson $(\\mu)$ distribution. Find the expectations below and prove your answers.\n",
    "\n",
    "**a)** $E(X+1)$\n",
    "\n",
    "**b)** $E(1/(X+1))$ [**Work out** [Section 8.2.4](http://prob140.org/textbook/content/Chapter_08/02_Applying_the_Definition.html#poisson) of the textbook before you start this problem. Do the calculation yourself, don't just read it.]\n",
    "\n",
    "**c)** $E(X^3)$ \n",
    "[**Work out** [Section 8.3.5](http://prob140.org/textbook/content/Chapter_08/03_Expectations_of_Functions.html#e-x-x-1-for-a-poisson-variable-x) and [Section 8.4.2](http://prob140.org/textbook/content/Chapter_08/04_Additivity.html#e-x-2-for-a-poisson-variable-x) of the textbook before you start this problem. Do the calculation yourself, don't just read it.]"
   ]
  },
  {
   "cell_type": "markdown",
   "metadata": {
    "#solution": false,
    "#staff": false,
    "#student": false
   },
   "source": [
    "## 3. Aces and Face Cards ##\n",
    "\n",
    "A standard deck consists of 52 cards of which 4 are aces, 4 are kings, and 12 (including the four kings) are \"face cards\" (Jacks, Queens, and Kings).\n",
    "\n",
    "Cards are dealt at random without replacement from a standard deck till all the cards have been dealt. \n",
    "\n",
    "Find the expectation of the following. Each can be done with almost no calculation if you use symmetry. \n",
    "\n",
    "**a)** The number of face cards among the first 5 cards\n",
    "\n",
    "**b)** The number of face cards that *do not* appear among the first 13 cards\n",
    "\n",
    "**c)** The number of aces among the first 5 cards minus the number of kings among the last 5 cards\n",
    "\n",
    "**d)** The number of cards before the first face card \n",
    "\n",
    "**e)** The number of cards strictly in between the first face card and the last face card\n",
    "\n",
    "**f)** The number of aces before the first face card"
   ]
  },
  {
   "cell_type": "markdown",
   "metadata": {
    "#solution": false,
    "#staff": false,
    "#student": false
   },
   "source": [
    "## 4. Unbiased Estimators ##\n",
    "\n",
    "**a)** A population of known size $N$ contains an unknown number $G$ of good elements. Let $X$ be the number of good elements in a simple random sample of size $n$ drawn from this population. Use $X$ to construct an unbiased estimator of $G$.\n",
    "\n",
    "\n",
    "**b)** Would your answer to Part **a** have been different if $X$ had been the number of good elements in a random sample drawn with replacement from the population? Why or why not?\n",
    "\n",
    "**c)** A flattened die lands 1 and 6 with chance $p/2$ each, and the other faces 2, 3, 4, and 5 with chance $(1-p)/4$ each. Here $p \\in (0, 1)$ is an unknown number. Let $X_1, X_2, \\ldots, X_n$ be the results of $n$ rolls of this die. First find $E(\\vert X_1 - 3.5 \\vert)$, and use the answer to construct an unbiased estimator of $p$ based on all of $X_1, X_2, \\ldots, X_n$."
   ]
  },
  {
   "cell_type": "markdown",
   "metadata": {
    "#solution": false,
    "#staff": false,
    "#student": false
   },
   "source": [
    "## 5. Collecting Distinct Values ##\n",
    "\n",
    "This exercise is a workout in finding expectations by using all the tools at your disposal. If an answer doesn't appear to fit into a formula that has already been proven, it's a very good idea to try to write the variable as a sum of simpler variables.\n",
    "\n",
    "**a)** A fair die is rolled $n$ times. Find the expected number of times the face with six spots appears.\n",
    "\n",
    "**b)** A fair die is rolled $n$ times. Find the expected number of faces that *do not* appear, and say what happens to this expectation as $n$ increases.\n",
    "\n",
    "**c)** Use your answer to Part **b** to find the expected number of distinct faces that *do* appear in $n$ rolls of a die.\n",
    "\n",
    "**d)** Find the expected number of times you have to roll a die till you have seen all of the faces. This is a version of what is known as the *coupon collector's problem*.\n"
   ]
  },
  {
   "cell_type": "markdown",
   "metadata": {
    "#solution": false,
    "#staff": false,
    "#student": false
   },
   "source": [
    "## 6. Fun with Indicators: The Inclusion-Exclusion Formula ##\n",
    "\n",
    "We guessed the general inclusion-exclusion formula (see [Section 5.2](http://prob140.org/textbook/content/Chapter_05/02_Inclusion_Exclusion.html#general-inclusion-exclusion-formula) of the textbook) but we never proved it. Let's get that done.\n",
    "\n",
    "**a)** Let $x_1, x_2, \\ldots, x_n$ be numbers. Expand the product $(1-x_1)(1-x_2)$ and then expand $(1-x_1)(1-x_2)(1-x_3)$ by using the expansion you got for $(1-x_1)(1-x_2)$. Now guess a formula for the expansion of the product\n",
    "\n",
    "$$\n",
    "\\prod_{i=1}^n (1 - x_i)\n",
    "$$\n",
    "\n",
    "and use induction to prove it. The induction shouldn't take many steps. It consists of just two observations, both of which can be expressed in English without complicated notation.\n",
    "\n",
    "**b)** Let $A_1, A_2, \\ldots, A_n$ be events. For each $i$ in the range 1 through $n$ let $I_i$ be the indicator of $A_i$. Let $I$ be the indicator of $\\cup_{i=1}^n A_i$. Explain why\n",
    "\n",
    "$$\n",
    "I ~ = ~ 1 - \\prod_{i=1}^n (1 - I_i)\n",
    "$$\n",
    "\n",
    "**c)** Use Parts **a** and **b** to establish the inclusion-exclusion formula."
   ]
  },
  {
   "cell_type": "markdown",
   "metadata": {
    "#solution": false,
    "#staff": false,
    "#student": false
   },
   "source": [
    "## Submission Instructions ##\n",
    "\n",
    "Many assignments throughout the course will have a written portion and a code portion. Please follow the directions below to properly submit both portions.\n",
    "\n",
    "### Written Portion ###\n",
    "*  Scan all the pages into a PDF. You can use any scanner or a phone using applications such as CamScanner. Please **DO NOT** simply take pictures using your phone. \n",
    "* Please start a new page for each question. If you have already written multiple questions on the same page, you can crop the image in CamScanner or fold your page over (the old-fashioned way). This helps expedite grading.\n",
    "* It is your responsibility to check that all the work on all the scanned pages is legible.\n",
    "\n",
    "### Code Portion ###\n",
    "* Save your notebook using File > Save and Checkpoint.\n",
    "* Generate a PDF file using File > Download as > PDF via LaTeX. This might take a few seconds and will automatically download a PDF version of this notebook.\n",
    "    * If you have issues, please make a follow-up post on the general HW 4 Ed thread.\n",
    "    \n",
    "### Submitting ###\n",
    "* Combine the PDFs from the written and code portions into one PDF.  [Here](https://smallpdf.com/merge-pdf) is a useful tool for doing so. \n",
    "* Submit the assignment to Homework 4 on Gradescope. \n",
    "* **Make sure to assign each page of your pdf to the correct question.**\n",
    "* **It is your responsibility to verify that all of your work shows up in your final PDF submission.**\n",
    "\n",
    "If you have questions about scanning or uploading your work, please post a follow-up to the [Ed thread](https://edstem.org/us/courses/24954/discussion/1695227) on this topic. "
   ]
  }
 ],
 "metadata": {
  "anaconda-cloud": {},
  "checksums": [
   "41c7cd602a4412e76fa92693a8966fea",
   "f6b7b3f605ba090e0efd9a26d52136e8",
   "996208cdfd34f4af0d96d183afb43c47",
   "0350987bcbc0b4e3840dce42e8623734",
   "6360fad866bb6d7246024f1ba1f39d70",
   "a1b8d4d23391a86ef21e00e019445845",
   "55abcb7f6075bfc011d2e208a5523529",
   "66910e7ffcba99a7fee698f624fd33d3",
   "4f8d01daef39379063f37418c95fcb68",
   "5c5e69e1142215f737081a75c5bea838",
   "2247dbbfea69134999b173816d012ac9",
   "44215886b60b4ed852a6dfbf0a18400d"
  ],
  "kernelspec": {
   "display_name": "Python 3 (ipykernel)",
   "language": "python",
   "name": "python3"
  },
  "language_info": {
   "codemirror_mode": {
    "name": "ipython",
    "version": 3
   },
   "file_extension": ".py",
   "mimetype": "text/x-python",
   "name": "python",
   "nbconvert_exporter": "python",
   "pygments_lexer": "ipython3",
   "version": "3.9.13"
  },
  "number_of_pagebreaks": 0
 },
 "nbformat": 4,
 "nbformat_minor": 1
}
