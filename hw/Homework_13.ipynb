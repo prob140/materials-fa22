{
 "cells": [
  {
   "cell_type": "markdown",
   "id": "40df43c9",
   "metadata": {
    "#solution": false,
    "#staff": false,
    "#student": false
   },
   "source": [
    "<table align=\"left\" style=\"border-style: hidden\" class=\"table\"> <tr><td class=\"col-md-2\"><img style=\"float\" src=\"http://prob140.org/assets/icon_sp22_ugarte.png\" alt=\"Prob140 Logo\" style=\"width: 120px;\"/></td><td><div align=\"left\"><h3 style=\"margin-top: 0;\">Probability for Data Science</h3><h4 style=\"margin-top: 20px;\">UC Berkeley, Fall 2022</h4><p>Ani Adhikari</p>CC BY-NC-SA 4.0</div></td></tr></table><!-- not in pdf -->\n",
    "\n",
    "This content is protected and may not be shared, uploaded, or distributed."
   ]
  },
  {
   "cell_type": "markdown",
   "id": "c98dc5c5",
   "metadata": {
    "#solution": false,
    "#staff": false,
    "#student": false
   },
   "source": [
    "# Homework 13 #\n",
    "\n",
    "### Instructions\n",
    "\n",
    "Your homeworks have two components: a written portion and a portion that also involves code.  Written work should be completed on paper, and coding questions should be done in the notebook.  You are welcome to LaTeX your answers to the written portions, but staff will not be able to assist you with LaTeX related issues. It is your responsibility to ensure that both components of the homework are submitted completely and properly to Gradescope. Refer to the bottom of the notebook for submission instructions."
   ]
  },
  {
   "cell_type": "markdown",
   "id": "6c0f8e7a",
   "metadata": {
    "#solution": false,
    "#staff": false,
    "#student": false
   },
   "source": [
    "## 1. Accident Claims ##\n",
    "\n",
    "Poisson processes are standard models used by actuaries and industrial engineers.\n",
    "\n",
    "At a street intersection, accidents happen according to a Poisson process at a rate of $\\lambda$ per month. Each accident leads to an insurace claim of a random dollar amount. Assume that the amounts of the claims are i.i.d. with mean $\\mu$ and SD $\\sigma$, independent of the process of accidents.\n",
    "\n",
    "Find the expectation and variance of the total amount claimed for accidents at that intersection in a year."
   ]
  },
  {
   "cell_type": "markdown",
   "id": "08a0afe9",
   "metadata": {
    "#solution": false,
    "#staff": false,
    "#student": false
   },
   "source": [
    "#newpage"
   ]
  },
  {
   "cell_type": "markdown",
   "id": "4f116a04",
   "metadata": {
    "#solution": false,
    "#staff": false,
    "#student": false
   },
   "source": [
    "## 2. Two-Colored Die ##\n",
    "\n",
    "A die that has two green faces and four blue faces is rolled repeatedly. Let $R$ be the number of rolls till both colors have appeared. \n",
    "\n",
    "In each part below, find the numerical value.\n",
    "\n",
    "**a)** Find $E(R)$.\n",
    "\n",
    "**b)** Find $SD(R)$."
   ]
  },
  {
   "cell_type": "markdown",
   "id": "3926b316",
   "metadata": {
    "#solution": false,
    "#staff": false,
    "#student": false
   },
   "source": [
    "#newpage"
   ]
  },
  {
   "cell_type": "markdown",
   "id": "b44acde8",
   "metadata": {
    "#solution": false,
    "#staff": false,
    "#student": false
   },
   "source": [
    "## 3. Midterms 1 and 2 ##\n",
    "\n",
    "In a large class, the distribution of scores in Midterms 1 and 2 is approximately bivariate normal. Define the following notation.\n",
    "\n",
    "- For $i = 1, 2$, $\\mu_i$ is the class average on Midterm $i$, and $\\sigma_i^2$ is the class variance on Midterm $i$\n",
    "- The correlation between Midterm 1 and 2 scores in the class is $\\rho$\n",
    "\n",
    "**a)** For approximately what proportion of the students was the Midterm 2 score (in standard units) higher than the Midterm 1 score (in standard units)?\n",
    "\n",
    "**b)** For approximately what proportion of the students did the two midterm scores (each in standard units) differ by more than 1?"
   ]
  },
  {
   "cell_type": "markdown",
   "id": "0ca43ed9",
   "metadata": {
    "#solution": false,
    "#staff": false,
    "#student": false
   },
   "source": [
    "#newpage"
   ]
  },
  {
   "cell_type": "markdown",
   "id": "9e55bd8a",
   "metadata": {
    "#solution": false,
    "#staff": false,
    "#student": false
   },
   "source": [
    "## 4. Normals and Coins ##\n",
    "\n",
    "Let $X$ be standard normal. Construct a random variable $Y$ as follows:\n",
    "\n",
    "- Toss a fair coin.\n",
    "- If the coin lands heads, let $Y = X$.\n",
    "- If the coin lands tails, let $Y = -X$.\n",
    "\n",
    "**a)** Find the cdf of $Y$ and hence identify the distribution of $Y$.\n",
    "\n",
    "**b)** Find $E(XY)$ by conditioning on the result of the toss.\n",
    "\n",
    "**c)** Are $X$ and $Y$ uncorrelated? \n",
    "\n",
    "**d)** Are $X$ and $Y$ independent?\n",
    "\n",
    "**e)** Is the joint distribution of $X$ and $Y$ bivariate normal?"
   ]
  },
  {
   "cell_type": "markdown",
   "id": "fdd9e346",
   "metadata": {
    "#solution": false,
    "#staff": false,
    "#student": false
   },
   "source": [
    "#newpage"
   ]
  },
  {
   "cell_type": "markdown",
   "id": "9f102946",
   "metadata": {
    "#solution": false,
    "#staff": false,
    "#student": false
   },
   "source": [
    "## Submission Instructions ##\n",
    "\n",
    "Many assignments throughout the course will have a written portion and a code portion. Please follow the directions below to properly submit both portions.\n",
    "\n",
    "### Written Portion ###\n",
    "*  Scan all the pages into a PDF. You can use any scanner or a phone using applications such as CamScanner. Please **DO NOT** simply take pictures using your phone. \n",
    "* Please start a new page for each question. If you have already written multiple questions on the same page, you can crop the image in CamScanner or fold your page over (the old-fashioned way). This helps expedite grading.\n",
    "* It is your responsibility to check that all the work on all the scanned pages is legible.\n",
    "\n",
    "### Code Portion ###\n",
    "* Save your notebook using File > Save and Checkpoint.\n",
    "* Generate a PDF file using File > Download as > PDF via LaTeX. This might take a few seconds and will automatically download a PDF version of this notebook.\n",
    "    * If you have issues, please make a follow-up post on the general HW 13 Ed thread.\n",
    "    \n",
    "### Submitting ###\n",
    "* Combine the PDFs from the written and code portions into one PDF.  [Here](https://smallpdf.com/merge-pdf) is a useful tool for doing so. \n",
    "* Submit the assignment to Homework 13 on Gradescope. \n",
    "* **Make sure to assign each page of your pdf to the correct question.**\n",
    "* **It is your responsibility to verify that all of your work shows up in your final PDF submission.**\n",
    "\n",
    "If you have questions about scanning or uploading your work, please post a follow-up to the [Ed thread](https://edstem.org/us/courses/24954/discussion/1695227) on this topic. "
   ]
  }
 ],
 "metadata": {
  "checksums": [
   "41c7cd602a4412e76fa92693a8966fea",
   "a09c94d702f747676fcffaa8e8fb1711",
   "ae0af477358eb9788a53cf071f962b8b",
   "640061103a186fd26f59746dd4d6de57",
   "4d81c91c0f50ba135db9ba206074fc4d",
   "640061103a186fd26f59746dd4d6de57",
   "f82742a41214f61182a121e933ff86a5",
   "640061103a186fd26f59746dd4d6de57",
   "9573f69003738031c60263e2ffefbc63",
   "640061103a186fd26f59746dd4d6de57",
   "424bc18911dad91fa57ada8eaee5db99"
  ],
  "kernelspec": {
   "display_name": "Python 3 (ipykernel)",
   "language": "python",
   "name": "python3"
  },
  "language_info": {
   "codemirror_mode": {
    "name": "ipython",
    "version": 3
   },
   "file_extension": ".py",
   "mimetype": "text/x-python",
   "name": "python",
   "nbconvert_exporter": "python",
   "pygments_lexer": "ipython3",
   "version": "3.9.13"
  },
  "number_of_pagebreaks": 4
 },
 "nbformat": 4,
 "nbformat_minor": 5
}
