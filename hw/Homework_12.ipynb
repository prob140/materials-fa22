{
 "cells": [
  {
   "cell_type": "markdown",
   "metadata": {
    "#solution": false,
    "#staff": false,
    "#student": false
   },
   "source": [
    "<table align=\"left\" style=\"border-style: hidden\" class=\"table\"> <tr><td class=\"col-md-2\"><img style=\"float\" src=\"http://prob140.org/assets/icon_sp22_ugarte.png\" alt=\"Prob140 Logo\" style=\"width: 120px;\"/></td><td><div align=\"left\"><h3 style=\"margin-top: 0;\">Probability for Data Science</h3><h4 style=\"margin-top: 20px;\">UC Berkeley, Fall 2022</h4><p>Ani Adhikari</p>CC BY-NC-SA 4.0</div></td></tr></table><!-- not in pdf -->\n",
    "\n",
    "This content is protected and may not be shared, uploaded, or distributed."
   ]
  },
  {
   "cell_type": "markdown",
   "metadata": {
    "#solution": false,
    "#staff": false,
    "#student": false
   },
   "source": [
    "# Homework 12 #\n",
    "\n",
    "### Instructions\n",
    "\n",
    "Your homeworks have two components: a written portion and a portion that also involves code.  Written work should be completed on paper, and coding questions should be done in the notebook.  You are welcome to LaTeX your answers to the written portions, but staff will not be able to assist you with LaTeX related issues. It is your responsibility to ensure that both components of the homework are submitted completely and properly to Gradescope. Refer to the bottom of the notebook for submission instructions."
   ]
  },
  {
   "cell_type": "code",
   "execution_count": null,
   "metadata": {
    "#solution": false,
    "#staff": false,
    "#student": false
   },
   "outputs": [],
   "source": [
    "from datascience import *\n",
    "from prob140 import *\n",
    "import numpy as np\n",
    "import matplotlib.pyplot as plt\n",
    "plt.style.use('fivethirtyeight')\n",
    "%matplotlib inline\n",
    "from scipy import stats\n",
    "from scipy import special\n",
    "import warnings\n",
    "warnings.filterwarnings('ignore')"
   ]
  },
  {
   "cell_type": "markdown",
   "metadata": {
    "#solution": false,
    "#staff": false,
    "#student": false
   },
   "source": [
    "### Preliminary: Line Plots\n",
    "\n",
    "In Data 8 you used `Table.plot` to draw line plots, but in this class the line plots have typically been drawn using the plot function of matplotlib. Here is the syntax; you are going to need it in the exercises. It's easier than setting up tables first, especially when you want to overlay multiple plots.\n",
    "\n",
    "The `pyplot` module of matplotlib has been imported for you as `plt`. This is its standard abbreviation.\n",
    "\n",
    "Let `x` and `y` be two numerical arrays of the same length. Then `plt.plot(x, y)` produces a line plot with values of `x` on the horizontal axis and the corresponding values of `y` on the vertical. The plot \"joins the dots\" `(x.item(0), y.item(0))`, `(x.item(1), y.item(1))`, `(x.item(2), y.item(2))`, and so on.\n",
    "\n",
    "The optional argument `lw=n` can be used to set a line width of n units. Please use `lw=2` in this homework.\n",
    "\n",
    "The semicolon at the end of the last line of code in each cell stops matplotlib from blurting out text that we don't need here.\n",
    "\n",
    "Run these cells to see some examples. Note the overlaid plots: they are straightforward to draw, and Python chooses a different color for each plot."
   ]
  },
  {
   "cell_type": "code",
   "execution_count": null,
   "metadata": {
    "#solution": false,
    "#staff": false,
    "#student": false
   },
   "outputs": [],
   "source": [
    "x = np.arange(0, 1.01, 0.01)\n",
    "x_squared = x ** 2\n",
    "x_cubed = x**3\n",
    "plt.plot(x, x_squared, lw=2)\n",
    "plt.plot(x, x_cubed, lw=2);"
   ]
  },
  {
   "cell_type": "markdown",
   "metadata": {
    "#solution": false,
    "#staff": false,
    "#student": false
   },
   "source": [
    "You can add titles, labels, and legends."
   ]
  },
  {
   "cell_type": "code",
   "execution_count": null,
   "metadata": {
    "#solution": false,
    "#staff": false,
    "#student": false
   },
   "outputs": [],
   "source": [
    "plt.plot(x, x_squared, lw=2, label = 'Square')\n",
    "plt.plot(x, x_cubed, lw=2, label = 'Cube')\n",
    "plt.legend()\n",
    "plt.xlabel('x')\n",
    "plt.title('Powers of $x$');"
   ]
  },
  {
   "cell_type": "markdown",
   "metadata": {
    "#solution": false,
    "#staff": false,
    "#student": false
   },
   "source": [
    "As another example, the code below was used in Homework 9 Exercise 5d to plot gamma densities."
   ]
  },
  {
   "cell_type": "code",
   "execution_count": null,
   "metadata": {
    "#solution": false,
    "#staff": false,
    "#student": false
   },
   "outputs": [],
   "source": [
    "t = np.arange(0, 25, 0.01)\n",
    "r_1 = stats.gamma.pdf(t, 1, scale=1/0.25)\n",
    "r_1_5 = stats.gamma.pdf(t, 1.5, scale=1/0.25)\n",
    "r_2 = stats.gamma.pdf(t, 2, scale=1/0.25)\n",
    "r_2_5 = stats.gamma.pdf(t, 2.5, scale=1/0.25)\n",
    "r_3 = stats.gamma.pdf(t, 3, scale=1/0.25)\n",
    "plt.plot(t, r_1, lw=2, label='gamma (1, 0.25)')\n",
    "plt.plot(t, r_1_5, lw=2, label='gamma (1.5, 0.25)')\n",
    "plt.plot(t, r_2, lw=2, label='gamma (2, 0.25)')\n",
    "plt.plot(t, r_2_5, lw=2, label='gamma (2.5, 0.25)')\n",
    "plt.plot(t, r_3, lw=2, label='gamma (3, 0.25)')\n",
    "plt.xlabel('$t$')\n",
    "plt.legend()\n",
    "plt.title('Gamma Densities: Same Rate and Different Shape Parameters');"
   ]
  },
  {
   "cell_type": "markdown",
   "metadata": {
    "#solution": false,
    "#staff": false,
    "#student": false
   },
   "source": [
    "## 1. Heads in Tosses of a Random Coin\n",
    "Let $X$ be a random proportion with a prior distribution that is beta $(2, 3)$. Given $X=p$, let $I_1, I_2, I_3, \\ldots$ be i.i.d. Bernoulli $(p)$.\n",
    "\n",
    "**a)** Plot the prior density of $X$."
   ]
  },
  {
   "cell_type": "code",
   "execution_count": null,
   "metadata": {
    "#solution": false,
    "#staff": false,
    "#student": true
   },
   "outputs": [],
   "source": [
    "# Answer to 1a\n",
    "\n",
    "x = np.arange(0, 1.01, 0.01)\n",
    "...\n",
    "plt.title('Beta $(2, 3)$ density');"
   ]
  },
  {
   "cell_type": "markdown",
   "metadata": {
    "#solution": false,
    "#staff": false,
    "#student": false
   },
   "source": [
    "**b)** Let $H_7 = \\sum_{k=1}^7 I_k$. For each $h = 0, 1, \\ldots, 7$, plot the posterior density of $X$ given $H_7 = h$. All $8$ plots should be on the same graph. \n",
    "\n",
    "Use as many lines of code as you need. You don't have to include labels and a legend, but the title should say which densities you are plotting."
   ]
  },
  {
   "cell_type": "code",
   "execution_count": null,
   "metadata": {
    "#solution": false,
    "#staff": false,
    "#student": true
   },
   "outputs": [],
   "source": [
    "# Answer to 1b\n",
    "\n",
    "...\n",
    "\n",
    "plt.title('... (...) Densities for $0 \\leq h \\leq 7');"
   ]
  },
  {
   "cell_type": "markdown",
   "metadata": {
    "#solution": false,
    "#staff": false,
    "#student": false
   },
   "source": [
    "**c)** What is the MAP estimate of the random probability of heads given $H_7 = 2$? Calculate the estimate using the appropriate formula and confirm that your answer agrees with the estimate visible in the appropriate graph above.\n",
    "\n",
    "**d)** Find $P(I_8 = 1 \\mid H_7 = 2)$. Your answer should be a decimal value.\n",
    "\n",
    "**e)** Find $P(I_8 = 1, I_9 = 1, I_{10} = 1 \\mid H_7 = 2)$. Your answer should be a decimal value. Is it equal to the cube of the answer to Part (d)? If not, which is bigger?"
   ]
  },
  {
   "cell_type": "markdown",
   "metadata": {
    "#solution": false,
    "#staff": false,
    "#student": false
   },
   "source": [
    "#newpage"
   ]
  },
  {
   "cell_type": "markdown",
   "metadata": {
    "#solution": false,
    "#staff": false,
    "#student": false
   },
   "source": [
    "## 2. Waiting for a Random Coin to Land Heads ##\n",
    "Let $X$ be a random proportion. Given $X=p$, let $T$ be the number of tosses till a $p$-coin lands heads.\n",
    "\n",
    "**a)** Let $P(X = 1/10) = 1/4$, $P(X = 1/7) = 1/4$, and $P(X = 1/3) = 1/2$. Find $E(T)$.\n",
    "\n",
    "**b)** Find $E(T)$ if $X$ has the beta $(r, s)$ density for some $r > 1$. Simplify all integrals and Gamma functions in your answer.\n",
    "\n",
    "**c)** Let $X$ have the beta $(r, s)$ density. For fixed $k > 0$, find the posterior density of $X$ given $T = k$. Identify it as one of the famous ones and state its name and parameters."
   ]
  },
  {
   "cell_type": "markdown",
   "metadata": {
    "#solution": false,
    "#staff": false,
    "#student": false
   },
   "source": [
    "#newpage"
   ]
  },
  {
   "cell_type": "markdown",
   "metadata": {
    "#solution": false,
    "#staff": false,
    "#student": false
   },
   "source": [
    "## 3. Sections ##\n",
    "A class of 60 students has three sections. Summary statistics for scores on Quiz 7:\n",
    "- Section 1: 25 students, mean 25, SD 3\n",
    "- Section 2: 20 students, mean 23, SD 2 \n",
    "- Section 3: 15 students, mean 27, SD 4\n",
    "\n",
    "Let $S$ be the Quiz 7 score of a student picked at random from the class. Use the code cell below to calculate numerical answers for parts a and b.\n",
    "\n",
    "**a)** Find $E(S)$.\n",
    "\n",
    "**b)** Find $SD(S)$."
   ]
  },
  {
   "cell_type": "code",
   "execution_count": null,
   "metadata": {
    "#solution": false,
    "#staff": false,
    "#student": true
   },
   "outputs": [],
   "source": [
    "# calculation for 3a\n",
    "..."
   ]
  },
  {
   "cell_type": "code",
   "execution_count": null,
   "metadata": {
    "#solution": false,
    "#staff": false,
    "#student": true
   },
   "outputs": [],
   "source": [
    "# calculation for 3b\n",
    "..."
   ]
  },
  {
   "cell_type": "markdown",
   "metadata": {
    "#solution": false,
    "#staff": false,
    "#student": false
   },
   "source": [
    "#newpage"
   ]
  },
  {
   "cell_type": "markdown",
   "metadata": {
    "#solution": false,
    "#staff": false,
    "#student": false
   },
   "source": [
    "## 4. Overlapping Counts ##\n",
    "Consider a sequence of i.i.d. Bernoulli $(p)$ trials. Consider the three variables $X$, $Y$, and $V$ defined by:\n",
    "\n",
    "- $X$ is the number of successes in trials 1 through 100\n",
    "- $Y$ is the number of successes in trials 51 through 100\n",
    "- $V$ is the number of successes in trials 51 through 150\n",
    "\n",
    "**a)** For each of $X$, $Y$, and $V$, say what the distribution is and provide the parameters.\n",
    "\n",
    "**b)** Fix $k$ in the range $0, 1, \\ldots, 100$ and find the conditional distribution of $Y$ given $X = k$. Recognize this as a famous one and provide the parameters.\n",
    "\n",
    "**c)** Find the least squares predictor of $Y$ based on $X$ and say whether it is a linear function of $X$. (If it is, then the best linear predictor is in fact the best among all predictors.) Find $Var(Y \\mid X)$.\n",
    "\n",
    "**d)** Find $E(V \\mid X)$, $Var(V \\mid X)$, and the correlation $r(X, V)$.\n",
    "\n",
    "**e)** Simulate 20,000 $(X, V)$ pairs for $p = 0.5$ and draw the scatter plot of the observed points. Plot $E(V \\mid X)$ as a function of $X$ on the same plot. Use the cell below. The arrays `x` and `v` should contain the observed values of $X$ and $V$. The array `exp_V_given_x` should contain $E(V \\mid X = x)$ for each $x$ in `x`, using the formula you derived in **d**."
   ]
  },
  {
   "cell_type": "code",
   "execution_count": null,
   "metadata": {
    "#solution": false,
    "#staff": false,
    "#student": true
   },
   "outputs": [],
   "source": [
    "# simulation for 4e\n",
    "\n",
    "...\n",
    "\n",
    "x = ...\n",
    "v = ...\n",
    "exp_V_given_x = ...\n",
    "\n",
    "# Don't change the lines below\n",
    "plt.figure(figsize=(6, 6))\n",
    "plt.axes().set_aspect('equal')\n",
    "plt.xticks(np.arange(30, 71, 10))\n",
    "plt.yticks(np.arange(30, 71, 10))\n",
    "plt.scatter(x, v, color='darkblue', s=10)\n",
    "plt.scatter(x, exp_V_given_x, color='gold', s=10);"
   ]
  },
  {
   "cell_type": "markdown",
   "metadata": {
    "#solution": false,
    "#staff": false,
    "#student": false
   },
   "source": [
    "Complete the cell below so that the `x_su` is `x` in standard units, `v_su` is `v` in standard units, and the last line evaluates to the observed correlation between `x` and `v`. Check that the output is consistent with your calculation in **d**."
   ]
  },
  {
   "cell_type": "code",
   "execution_count": null,
   "metadata": {
    "#solution": false,
    "#staff": false,
    "#student": true
   },
   "outputs": [],
   "source": [
    "# 4e continued\n",
    "\n",
    "x_su = ...\n",
    "v_su = ...\n",
    "..."
   ]
  },
  {
   "cell_type": "markdown",
   "metadata": {
    "#solution": false,
    "#staff": false,
    "#student": false
   },
   "source": [
    "#newpage"
   ]
  },
  {
   "cell_type": "markdown",
   "metadata": {
    "#solution": false,
    "#staff": false,
    "#student": false
   },
   "source": [
    "## Submission Instructions ##\n",
    "\n",
    "Many assignments throughout the course will have a written portion and a code portion. Please follow the directions below to properly submit both portions.\n",
    "\n",
    "### Written Portion ###\n",
    "*  Scan all the pages into a PDF. You can use any scanner or a phone using applications such as CamScanner. Please **DO NOT** simply take pictures using your phone. \n",
    "* Please start a new page for each question. If you have already written multiple questions on the same page, you can crop the image in CamScanner or fold your page over (the old-fashioned way). This helps expedite grading.\n",
    "* It is your responsibility to check that all the work on all the scanned pages is legible.\n",
    "\n",
    "### Code Portion ###\n",
    "* Save your notebook using File > Save and Checkpoint.\n",
    "* Generate a PDF file using File > Download as > PDF via LaTeX. This might take a few seconds and will automatically download a PDF version of this notebook.\n",
    "    * If you have issues, please make a follow-up post on the general HW 12 Ed thread.\n",
    "    \n",
    "### Submitting ###\n",
    "* Combine the PDFs from the written and code portions into one PDF.  [Here](https://smallpdf.com/merge-pdf) is a useful tool for doing so. \n",
    "* Submit the assignment to Homework 12 on Gradescope. \n",
    "* **Make sure to assign each page of your pdf to the correct question.**\n",
    "* **It is your responsibility to verify that all of your work shows up in your final PDF submission.**\n",
    "\n",
    "If you have questions about scanning or uploading your work, please post a follow-up to the [Ed thread](https://edstem.org/us/courses/24954/discussion/1695227) on this topic. "
   ]
  }
 ],
 "metadata": {
  "checksums": [
   "41c7cd602a4412e76fa92693a8966fea",
   "354b421e611daa18183b99dd3d94b84c",
   "1a2d3898387c3a524865a616959ed3f7",
   "e5956375aeb3200b4f5f64770f9efef1",
   "683ab38bd531921118e36873490212ae",
   "3482bcdb5c320847e6503a2362cc93ee",
   "d4eae9a0ea6ee651a816f4f8b7106b4f",
   "f3f95d993f3287ab56278460125a38bd",
   "f0f2de5b86271b4100a664a6364f7b81",
   "f6a3290b34b417fba7a2e0e4a433e48b",
   "ee96564a6d27ac0cf7e810f41f7f02b0",
   "1d23ec28bc4142a10c19a0079c1214d8",
   "6128f7e5a854c88695adaaf4419b7e36",
   "f94a123537544aa577b9108f5f81e0eb",
   "640061103a186fd26f59746dd4d6de57",
   "a27ef3a0127a3faaa5a0643ac7b7e80b",
   "640061103a186fd26f59746dd4d6de57",
   "43b6111f9aa78d9ded2ae6fd9e8af6ab",
   "a327249a6794ffc63ef55f4dc2829e0a",
   "4fc7196a38baa2e49857477d9fcb65e9",
   "640061103a186fd26f59746dd4d6de57",
   "eec29b0089efc85a94b0ead8e1c020fa",
   "f139c5e2d6d3c9730ca4e70603e746e8",
   "5159b8a527e9201b9e5d31a96708903d",
   "276dbdb27c87a0d34559789dbb106063",
   "640061103a186fd26f59746dd4d6de57",
   "17bfac94f0ef3a8b69e97eb659dbe79d"
  ],
  "kernelspec": {
   "display_name": "Python 3 (ipykernel)",
   "language": "python",
   "name": "python3"
  },
  "language_info": {
   "codemirror_mode": {
    "name": "ipython",
    "version": 3
   },
   "file_extension": ".py",
   "mimetype": "text/x-python",
   "name": "python",
   "nbconvert_exporter": "python",
   "pygments_lexer": "ipython3",
   "version": "3.9.13"
  },
  "number_of_pagebreaks": 4
 },
 "nbformat": 4,
 "nbformat_minor": 4
}
