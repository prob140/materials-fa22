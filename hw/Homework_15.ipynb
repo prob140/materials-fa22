{
 "cells": [
  {
   "cell_type": "markdown",
   "metadata": {
    "#solution": false,
    "#staff": false,
    "#student": false,
    "jp-MarkdownHeadingCollapsed": true,
    "tags": []
   },
   "source": [
    "<table align=\"left\" style=\"border-style: hidden\" class=\"table\"> <tr><td class=\"col-md-2\"><img style=\"float\" src=\"http://prob140.org/assets/icon_sp22_ugarte.png\" alt=\"Prob140 Logo\" style=\"width: 120px;\"/></td><td><div align=\"left\"><h3 style=\"margin-top: 0;\">Probability for Data Science</h3><h4 style=\"margin-top: 20px;\">UC Berkeley, Fall 2022</h4><p>Ani Adhikari</p>CC BY-NC-SA 4.0</div></td></tr></table><!-- not in pdf -->\n",
    "\n",
    "This content is protected and may not be shared, uploaded, or distributed."
   ]
  },
  {
   "cell_type": "markdown",
   "metadata": {
    "#solution": false,
    "#staff": false,
    "#student": false
   },
   "source": [
    "# Homework 15"
   ]
  },
  {
   "cell_type": "markdown",
   "metadata": {
    "#solution": false,
    "#staff": false,
    "#student": false
   },
   "source": [
    "### Instructions\n",
    "\n",
    "Your homeworks have two components: a written portion and a portion that also involves code.  Written work should be completed on paper, and coding questions should be done in the notebook.  You are welcome to $\\LaTeX$ your answers to the written portions, but staff will not be able to assist you with $\\LaTeX$ related issues. It is your responsibility to ensure that both components of the homework are submitted completely and properly to Gradescope. **Make sure to assign each page of your pdf to the correct question.** Refer to the bottom of the notebook for submission instructions."
   ]
  },
  {
   "cell_type": "code",
   "execution_count": null,
   "metadata": {
    "#solution": false,
    "#staff": false,
    "#student": false
   },
   "outputs": [],
   "source": [
    "import warnings\n",
    "warnings.filterwarnings('ignore')\n",
    "from datascience import *\n",
    "from prob140 import *\n",
    "import numpy as np\n",
    "from scipy import stats\n",
    "import matplotlib.pyplot as plt\n",
    "plt.style.use('fivethirtyeight')\n",
    "%matplotlib inline"
   ]
  },
  {
   "cell_type": "markdown",
   "metadata": {
    "#solution": false,
    "#staff": false,
    "#student": false
   },
   "source": [
    "## 1. Predicting Scores ##\n",
    "\n",
    "[Your answers to this question should be decimal values or equations with numerical coefficients. For the arithmetic, you are welcome use the code cell at the end of the question. It's just there for your convenience – we won't read it.]\n",
    "\n",
    "Grades in a class are based on a linear combination of a final exam (worth 50% of the grade), a midterm (worth 30%), and homework (worth 20%). Let the random vector $[F ~~ M ~~ H]^T$ consist of the final, midterm, and homework scores of a randomly picked student.\n",
    "\n",
    "Suppose the mean vector of $[F ~~ M ~~ H]^T$ is $[60 ~~ 55 ~~ 80]^T$ and the covariance matrix is\n",
    "\n",
    "$$\n",
    "\\begin{bmatrix}\n",
    "121 & 80 & 10 \\\\\n",
    "80 & 144 & 15 \\\\\n",
    "10 & 15 & 9\n",
    "\\end{bmatrix}\n",
    "$$\n",
    "\n",
    "Suppose the distribution of $[F ~~ M ~~ H]^T$ is multivariate normal. \n",
    "\n",
    "**a)** Find the distribution of the student's overall score $S = 0.5F + 0.3M + 0.2H$.\n",
    "\n",
    "**b)** The instructor wonders whether the final exam score $F$ can just be predicted by a linear function of the random variable $X = 0.3M + 0.2H$. Find the least squares predictor of $F$ based on $X$. Is it linear?\n",
    "\n",
    "**c)** Find the root mean squared error of the predictor in Part **b**."
   ]
  },
  {
   "cell_type": "code",
   "execution_count": null,
   "metadata": {
    "#solution": false,
    "#staff": false,
    "#student": true
   },
   "outputs": [],
   "source": [
    "weight = np.matrix([0.5, 0.3, 0.2])\n",
    "mu = np.matrix([60, 55, 80])\n",
    "cov = np.matrix([[121, 80, 10], \n",
    "      [80, 144, 15],\n",
    "      [10, 15, 9]])\n",
    "\n",
    "..."
   ]
  },
  {
   "cell_type": "markdown",
   "metadata": {
    "#solution": false,
    "#staff": false,
    "#student": false
   },
   "source": [
    "\\newpage"
   ]
  },
  {
   "cell_type": "markdown",
   "metadata": {
    "#solution": false,
    "#staff": false,
    "#student": false
   },
   "source": [
    "## 2. Normal Sample Mean and Sample Variance, Part 1 ##\n",
    "\n",
    "Let $X_1, X_2, \\ldots, X_n$ be i.i.d. with mean $\\mu$ and variance $\\sigma^2$. Let\n",
    "\n",
    "$$\n",
    "\\bar{X} ~ = ~ \\frac{1}{n} \\sum_{i=1}^n X_i\n",
    "$$\n",
    "\n",
    "denote the sample mean. In [Homework 9](http://prob140.datahub.berkeley.edu/hub/user-redirect/git-pull?repo=https://github.com/prob140/materials-fa22&branch=main&subPath=hw/Homework_09.ipynb), you constructed a random variable\n",
    "\n",
    "$$S^2 = \\frac{1}{n - 1} \\sum_{i=1}^n (X_i - \\bar{X})^2$$ \n",
    "\n",
    "called the sample variance. Before proceeding, please review Homework 9, Question 1 in its entirety.\n",
    "\n",
    "**a)** For $1 \\le i \\le n$ let $D_i = X_i - \\bar{X}$. Find $Cov(D_i, \\bar{X})$.\n",
    "\n",
    "**b)** Now assume in addition that $X_1, X_2, \\ldots, X_n$ are i.i.d. normal $(\\mu, \\sigma^2)$. What is the joint distribution of $\\bar{X}, D_1, D_2, \\ldots, D_{n-1}$? Explain why $D_n$ isn't on the list.\n",
    "\n",
    "**c)** True or false (justify your answer): The sample mean and sample variance of an i.i.d. normal sample are independent of each other."
   ]
  },
  {
   "cell_type": "markdown",
   "metadata": {
    "#solution": false,
    "#staff": false,
    "#student": false
   },
   "source": [
    "\\newpage"
   ]
  },
  {
   "cell_type": "markdown",
   "metadata": {
    "#solution": false,
    "#staff": false,
    "#student": false
   },
   "source": [
    "## 3. Normal Sample Mean and Sample Variance, Part 2 ##\n",
    "\n",
    "**a)** Let $R$ have the chi-squared distribution with $n$ degrees of freedom. What is the mgf of $R$?\n",
    "\n",
    "**b)**\n",
    "For $R$ as in Part (a), suppose\n",
    "$R = V + W$ where $V$ and $W$ are independent and $V$ has the chi-squared \n",
    "distribution with $m < n$ degrees of freedom. Can you identify the distribution of $W$? Justify your answer.\n",
    "\n",
    "**c)** Let $X_1, X_2, \\ldots , X_n$ be any sequence of random variables and let $\\bar{X} = \\frac{1}{n}\\sum_{i=1}^n X_i$. Let $\\alpha$ be\n",
    "any constant. Prove the *sum of squares decomposition*\n",
    "\n",
    "$$\n",
    "\\sum_{i=1}^n (X_i - \\alpha)^2 ~=~ \\sum_{i=1}^n (X_i - \\bar{X})^2 ~+~ n(\\bar{X} - \\alpha)^2\n",
    "$$\n",
    "\n",
    "**d)** Now let $X_1, X_2, \\ldots , X_n$ be i.i.d. normal with mean $\\mu$ and variance $\\sigma^2 > 0$. Let $S^2$ be the \"sample variance\" defined by \n",
    "\n",
    "$$\n",
    "S^2 ~=~ \\frac{1}{n-1} \\sum_{i=1}^n (X_i - \\bar{X})^2\n",
    "$$\n",
    "\n",
    "Find a constant $c$ such that $cS^2$ has a chi-squared distribution. Provide the degrees of freedom.\n",
    "\n",
    "[Use Parts (b) and (c) as well as the result of the previous exercise.]"
   ]
  },
  {
   "cell_type": "markdown",
   "metadata": {
    "#solution": false,
    "#staff": false,
    "#student": false
   },
   "source": [
    "\\newpage"
   ]
  },
  {
   "cell_type": "markdown",
   "metadata": {
    "#solution": false,
    "#staff": false,
    "#student": false
   },
   "source": [
    "## 4. Multiple Regression: Residuals ##\n",
    "\n",
    "This exercise assumes the multiple regression model of [Section 25.4](http://prob140.org/textbook/content/Chapter_25/04_Multiple_Regression.html) of the textbook and uses the same notation as in that section. \n",
    "\n",
    "The regression estimate $\\hat{\\mathbf{Y}}$ can be written as $\\mathbf{HY}$ for an $n \\times n$ matrix $\\mathbf{H}$. This matrix is called the *hat matrix*, probably because it ''puts the hat on $\\mathbf{Y}$.''\n",
    "\n",
    "**a)** Write $\\mathbf{H}$ in terms of $\\mathbf{X}$. Is $\\mathbf{H}$ symmetric?\n",
    "\n",
    "**b)** Show that $\\mathbf{H}$ is idempotent. (If you haven't seen that term before, look it up.)\n",
    "\n",
    "**c)** Find the distribution of the residual vector $\\mathbf{e}$.\n",
    "\n",
    "**d)** Show that the covariance matrix of $\\mathbf{e}$ is $\\sigma^2(\\mathbf{I} - \\mathbf{H})$."
   ]
  },
  {
   "cell_type": "markdown",
   "metadata": {
    "#solution": false,
    "#staff": false,
    "#student": false
   },
   "source": [
    "## Submission Instructions ##\n",
    "\n",
    "Many assignments throughout the course will have a written portion and a code portion. Please follow the directions below to properly submit both portions.\n",
    "\n",
    "### Written Portion ###\n",
    "*  Scan all the pages into a PDF. You can use any scanner or a phone using applications such as CamScanner. Please **DO NOT** simply take pictures using your phone. \n",
    "* Please start a new page for each question. If you have already written multiple questions on the same page, you can crop the image in CamScanner or fold your page over (the old-fashioned way). This helps expedite grading.\n",
    "* It is your responsibility to check that all the work on all the scanned pages is legible.\n",
    "\n",
    "### Code Portion ###\n",
    "* Save your notebook using File > Save and Checkpoint.\n",
    "* Generate a PDF file using File > Download as > PDF via LaTeX. This might take a few seconds and will automatically download a PDF version of this notebook.\n",
    "    * If you have issues, please make a follow-up post on the general HW 15 Ed thread.\n",
    "    \n",
    "### Submitting ###\n",
    "* Combine the PDFs from the written and code portions into one PDF.  [Here](https://smallpdf.com/merge-pdf) is a useful tool for doing so. \n",
    "* Submit the assignment to Homework 15 on Gradescope. \n",
    "* **Make sure to assign each page of your pdf to the correct question.**\n",
    "* **It is your responsibility to verify that all of your work shows up in your final PDF submission.**\n",
    "\n",
    "If you have questions about scanning or uploading your work, please post a follow-up to the [Ed thread](https://edstem.org/us/courses/17989/discussion/1027297) on this topic. "
   ]
  }
 ],
 "metadata": {
  "checksums": [
   "41c7cd602a4412e76fa92693a8966fea",
   "b35b34734682ad3d2d752ee901b43cc2",
   "0350987bcbc0b4e3840dce42e8623734",
   "d0602e0d9ce8b7fd066b0c8a788116c3",
   "1ada6cadda49cbe0a2a4da1094863d9e",
   "08fd9af0fbb917d6dcb1f32ebcc01c1a",
   "562505d567faf02dfc9388e81e89d07b",
   "dde2e8a42c641a4151c0fc3d4c7c3890",
   "562505d567faf02dfc9388e81e89d07b",
   "a8370eb9ae761b61d2dca9b9514d05f3",
   "562505d567faf02dfc9388e81e89d07b",
   "dde81ac5ba23bbf9361a5770f9252c34",
   "649130b0d2819b32ce1381ff9fb4e222"
  ],
  "kernelspec": {
   "display_name": "Python 3 (ipykernel)",
   "language": "python",
   "name": "python3"
  },
  "language_info": {
   "codemirror_mode": {
    "name": "ipython",
    "version": 3
   },
   "file_extension": ".py",
   "mimetype": "text/x-python",
   "name": "python",
   "nbconvert_exporter": "python",
   "pygments_lexer": "ipython3",
   "version": "3.9.13"
  },
  "number_of_pagebreaks": 0
 },
 "nbformat": 4,
 "nbformat_minor": 2
}
