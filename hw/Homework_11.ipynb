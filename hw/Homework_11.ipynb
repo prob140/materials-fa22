{
 "cells": [
  {
   "cell_type": "markdown",
   "id": "11121aa3",
   "metadata": {
    "#solution": false,
    "#staff": false,
    "#student": false
   },
   "source": [
    "<table align=\"left\" style=\"border-style: hidden\" class=\"table\"> <tr><td class=\"col-md-2\"><img style=\"float\" src=\"http://prob140.org/assets/icon_sp22_ugarte.png\" alt=\"Prob140 Logo\" style=\"width: 120px;\"/></td><td><div align=\"left\"><h3 style=\"margin-top: 0;\">Probability for Data Science</h3><h4 style=\"margin-top: 20px;\">UC Berkeley, Fall 2022</h4><p>Ani Adhikari</p>CC BY-NC-SA 4.0</div></td></tr></table><!-- not in pdf -->\n",
    "\n",
    "This content is protected and may not be shared, uploaded, or distributed."
   ]
  },
  {
   "cell_type": "markdown",
   "id": "8833c5c4",
   "metadata": {
    "#solution": false,
    "#staff": false,
    "#student": false
   },
   "source": [
    "# Homework 11 #\n",
    "\n",
    "### Instructions\n",
    "\n",
    "Your homeworks have two components: a written portion and a portion that also involves code.  Written work should be completed on paper, and coding questions should be done in the notebook.  You are welcome to LaTeX your answers to the written portions, but staff will not be able to assist you with LaTeX related issues. It is your responsibility to ensure that both components of the homework are submitted completely and properly to Gradescope. Refer to the bottom of the notebook for submission instructions."
   ]
  },
  {
   "cell_type": "code",
   "execution_count": null,
   "id": "0c63da4e",
   "metadata": {
    "#solution": false,
    "#staff": false,
    "#student": false
   },
   "outputs": [],
   "source": [
    "# Run this cell to set up your notebook\n",
    "\n",
    "# These lines make warnings go away\n",
    "import warnings\n",
    "warnings.filterwarnings('ignore')\n",
    "\n",
    "import numpy as np\n",
    "from scipy import stats\n",
    "from datascience import *\n",
    "from prob140 import *\n",
    "\n",
    "# These lines do some fancy plotting magic\n",
    "import matplotlib\n",
    "%matplotlib inline\n",
    "import matplotlib.pyplot as plt\n",
    "plt.style.use('fivethirtyeight')"
   ]
  },
  {
   "cell_type": "markdown",
   "id": "6db2a2ab",
   "metadata": {
    "#solution": false,
    "#staff": false,
    "#student": false
   },
   "source": [
    "### 1. Poisson MGF ###\n",
    "Let $X$ have Poisson($\\mu$) distribution, and let $Y$ independent of $X$ have Poisson $(\\lambda)$ distribution.\n",
    "\n",
    "**a)** Find the mgf of $X$.\n",
    "\n",
    "**b)** Use the result of (a) to show that the distribution of $X+Y$ is Poisson."
   ]
  },
  {
   "cell_type": "markdown",
   "id": "e95b7032",
   "metadata": {
    "#solution": false,
    "#staff": false,
    "#student": false
   },
   "source": [
    "#newpage"
   ]
  },
  {
   "cell_type": "markdown",
   "id": "4892ad77",
   "metadata": {
    "#solution": false,
    "#staff": false,
    "#student": false
   },
   "source": [
    "## 2. Gamma Tail Bound ##\n",
    "\n",
    "Before you do this exercise, carefully study a [relevant example](http://prob140.org/textbook/content/Chapter_19/04_Chernoff_Bound.html#application-to-the-normal-distribution) in the textbook. You will have to follow similar steps.\n",
    "\n",
    "You will need the [mgf of the gamma distribution](http://prob140.org/textbook/content/Chapter_19/02_Moment_Generating_Functions.html#mgf-of-a-gamma-r-lambda-random-variable). Also remember that you found the gamma mean and variance in Homework 9.\n",
    "\n",
    "Let $X$ have the gamma $(r, \\lambda)$ distribution. \n",
    "\n",
    "**a)** Show that $P(X \\ge 2E(X)) \\le \\left(\\frac{2}{e}\\right)^r$.\n",
    "\n",
    "**b)** Find Markov's and Chebyshev's bounds on $P(X \\ge 2E(X))$. \n",
    "\n",
    "**c) [CODE]** Fix $\\lambda = 1$. Display overlaid plots of the following four graphs as functions of $r$, for $r$ in the interval $(0.5, 15)$ :\n",
    "\n",
    "- The exact tail probability $P(X \\ge 2E(X))$\n",
    "- The bound in Part **a**: $\\left(\\frac{2}{e}\\right)^r$\n",
    "- Chebyshev's bound on $P(X \\ge 2E(X))$\n",
    "- Markov's bound on $P(X \\ge 2E(X))$\n",
    "\n",
    "The code uses `plt.plot` which you have used before. The expression `stats.gamma.cdf(x, r, scale=1)` evaluates to the cdf of the gamma $(r, 1)$ distribution at the point $x$."
   ]
  },
  {
   "cell_type": "code",
   "execution_count": null,
   "id": "fb2879b0",
   "metadata": {
    "#solution": false,
    "#staff": false,
    "#student": true
   },
   "outputs": [],
   "source": [
    "# Answer to 2c\n",
    "r = np.arange(0.05, 15, 0.1) \n",
    "\n",
    "markov_bound = ...\n",
    "\n",
    "chebyshev_bound = ...\n",
    "\n",
    "part_a_bound = ...\n",
    "\n",
    "# Use as many lines as you need for the exact values\n",
    "exact = ...\n",
    "...\n",
    "\n",
    "plt.plot(r, exact, lw=2, label='Exact Chance')\n",
    "plt.plot(r, part_a_bound, lw=2, label='Part (a) Bound')\n",
    "plt.plot(r, chebyshev_bound, lw=2, label='Chebyshev Bound')\n",
    "plt.plot(r, markov_bound, lw=2, label='Markov Bound')\n",
    "plt.legend()\n",
    "plt.xlabel('$r$')\n",
    "plt.ylim(0, 1)\n",
    "plt.xlim(0, 15)\n",
    "plt.title('$P(X \\geq 2E(X))$ for $X$ gamma $(r, 1)$');"
   ]
  },
  {
   "cell_type": "markdown",
   "id": "067b8179",
   "metadata": {
    "#solution": false,
    "#staff": false,
    "#student": false
   },
   "source": [
    "#newpage"
   ]
  },
  {
   "cell_type": "markdown",
   "id": "598b0a9b",
   "metadata": {
    "#solution": false,
    "#staff": false,
    "#student": false
   },
   "source": [
    "## 3. MLE of the Exponential Rate ##\n",
    "For $n > 1$, let $X_1, X_2, \\ldots , X_n$ be i.i.d. exponential $(\\lambda )$ variables. \n",
    "\n",
    "**a)** Let $\\hat{\\lambda}_n$ be the maximum likelihood estimate (MLE) of the parameter $\\lambda$. Find $\\hat{\\lambda}_n$ in terms of the sample mean $\\bar{X}_n = \\frac{1}{n} \\sum_{i=1}^n X_i$. The subscript $n$ in $\\bar{X}_n$ is there to remind us that we have the average of $n$ values. It doesn't refer to the $n$th sampled value $X_n$.\n",
    "\n",
    "**b)** Use facts about sums and linear transformations to find the distribution of $\\bar{X}_n$ with little or no calculation. Recognize it as one of the famous ones and provide its name and parameters. Use it to find $E(\\hat{\\lambda}_n)$.\n",
    "\n",
    "**c)** Is $\\hat{\\lambda}_n$ an unbiased estimate of $\\lambda$? If it is biased, does it overestimate on average, or does it underestimate? Is it asymptotically unbiased? That is, does $E(\\hat{\\lambda}_n)$ converge to $\\lambda$ as $n \\to \\infty$?"
   ]
  },
  {
   "cell_type": "markdown",
   "id": "2e2819f0",
   "metadata": {
    "#solution": false,
    "#staff": false,
    "#student": false
   },
   "source": [
    "#newpage"
   ]
  },
  {
   "cell_type": "markdown",
   "id": "6a264630",
   "metadata": {
    "#solution": false,
    "#staff": false,
    "#student": false
   },
   "source": [
    "## 4. Discrete and Continuous Random Selections ##\n",
    "Fix a positive integer $n$, and let $p$ be strictly between 0 and 1.\n",
    "\n",
    "Suppose Person A picks a number uniformly in the interval $(0, n)$. Let $X$ be the number Person A picks.\n",
    "\n",
    "Suppose that independently of Person A, Person B picks an integer $Y$ according to the binomial $(n, p)$ distribution, for example by using `stats.binom.rvs(n, p, size=1)` or by tossing a $p$-coin $n$ times and recording the number of heads.\n",
    "\n",
    "Find $P(X < Y)$."
   ]
  },
  {
   "cell_type": "markdown",
   "id": "b0b38302",
   "metadata": {
    "#solution": false,
    "#staff": false,
    "#student": false
   },
   "source": [
    "#newpage"
   ]
  },
  {
   "cell_type": "markdown",
   "id": "a08530fd",
   "metadata": {
    "#solution": false,
    "#staff": false,
    "#student": false
   },
   "source": [
    "## 5. MLE and MAP Estimates ##\n",
    "\n",
    "The coin is tossed 10 times and the resulting sequence is HTTHHHTHTH. In the parts below, we refer to this information as \"the data\".\n",
    "\n",
    "**a)** Under the assumption that the coin lands heads with a fixed unknown probability $p$, find the MLE of $p$ based on the data. \n",
    "\n",
    "**b)** Suppose now that the coin lands heads with a random probability $X$. Let the prior density of $X$ be uniform on the unit interval. Find the MAP estimate of the probability of heads, given the data.\n",
    "\n",
    "**c)** Show that if $r > 1$ and $s > 1$ then the mode of the beta $(r, s)$  distribution is $(r-1)/(r+s-2)$. Remember to ignore multiplicative constants and take the log before maximizing.\n",
    "\n",
    "**d)** Suppose instead that the prior density of $X$ is $f(x) = 4x^3$ if $0 < x < 1$ and $0$ otherwise. Find the MAP estimate of the probability of heads, given the data."
   ]
  },
  {
   "cell_type": "markdown",
   "id": "25901605",
   "metadata": {
    "#solution": false,
    "#staff": false,
    "#student": false
   },
   "source": [
    "#newpage"
   ]
  },
  {
   "cell_type": "markdown",
   "id": "586eba4e",
   "metadata": {
    "#solution": false,
    "#staff": false,
    "#student": false
   },
   "source": [
    "## Submission Instructions ##\n",
    "\n",
    "Many assignments throughout the course will have a written portion and a code portion. Please follow the directions below to properly submit both portions.\n",
    "\n",
    "### Written Portion ###\n",
    "*  Scan all the pages into a PDF. You can use any scanner or a phone using applications such as CamScanner. Please **DO NOT** simply take pictures using your phone. \n",
    "* Please start a new page for each question. If you have already written multiple questions on the same page, you can crop the image in CamScanner or fold your page over (the old-fashioned way). This helps expedite grading.\n",
    "* It is your responsibility to check that all the work on all the scanned pages is legible.\n",
    "\n",
    "### Code Portion ###\n",
    "* Save your notebook using File > Save and Checkpoint.\n",
    "* Generate a PDF file using File > Download as > PDF via LaTeX. This might take a few seconds and will automatically download a PDF version of this notebook.\n",
    "    * If you have issues, please make a follow-up post on the general HW 11 Ed thread.\n",
    "    \n",
    "### Submitting ###\n",
    "* Combine the PDFs from the written and code portions into one PDF.  [Here](https://smallpdf.com/merge-pdf) is a useful tool for doing so. \n",
    "* Submit the assignment to Homework 11 on Gradescope. \n",
    "* **Make sure to assign each page of your pdf to the correct question.**\n",
    "* **It is your responsibility to verify that all of your work shows up in your final PDF submission.**\n",
    "\n",
    "If you have questions about scanning or uploading your work, please post a follow-up to the [Ed thread](https://edstem.org/us/courses/24954/discussion/1695227) on this topic. "
   ]
  }
 ],
 "metadata": {
  "checksums": [
   "41c7cd602a4412e76fa92693a8966fea",
   "07012afe11d58025248e5b774277d29c",
   "0cd16835f01a065038ef45c8ed1c297c",
   "976dca214602f7972028430733580d52",
   "640061103a186fd26f59746dd4d6de57",
   "be27064685585869d0f494f7ae763fdd",
   "b48a315e8a1371d8132df769f882a29c",
   "640061103a186fd26f59746dd4d6de57",
   "e7a0badbc10120434f40345a780db070",
   "640061103a186fd26f59746dd4d6de57",
   "a89d07e041a8a6baff2b42df4706f8ad",
   "640061103a186fd26f59746dd4d6de57",
   "aea9f4b5683367852166c1cf78444165",
   "640061103a186fd26f59746dd4d6de57",
   "f7d50837903235fd159a324573317094"
  ],
  "kernelspec": {
   "display_name": "Python 3 (ipykernel)",
   "language": "python",
   "name": "python3"
  },
  "language_info": {
   "codemirror_mode": {
    "name": "ipython",
    "version": 3
   },
   "file_extension": ".py",
   "mimetype": "text/x-python",
   "name": "python",
   "nbconvert_exporter": "python",
   "pygments_lexer": "ipython3",
   "version": "3.9.13"
  },
  "number_of_pagebreaks": 5
 },
 "nbformat": 4,
 "nbformat_minor": 5
}
