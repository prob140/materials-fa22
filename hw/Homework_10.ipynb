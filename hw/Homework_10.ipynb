{
 "cells": [
  {
   "cell_type": "markdown",
   "id": "23dbf19e",
   "metadata": {
    "#solution": false,
    "#staff": false,
    "#student": false
   },
   "source": [
    "<table align=\"left\" style=\"border-style: hidden\" class=\"table\"> <tr><td class=\"col-md-2\"><img style=\"float\" src=\"http://prob140.org/assets/icon_sp22_ugarte.png\" alt=\"Prob140 Logo\" style=\"width: 120px;\"/></td><td><div align=\"left\"><h3 style=\"margin-top: 0;\">Probability for Data Science</h3><h4 style=\"margin-top: 20px;\">UC Berkeley, Fall 2022</h4><p>Ani Adhikari</p>CC BY-NC-SA 4.0</div></td></tr></table><!-- not in pdf -->\n",
    "\n",
    "This content is protected and may not be shared, uploaded, or distributed."
   ]
  },
  {
   "cell_type": "markdown",
   "id": "6b27dc38",
   "metadata": {
    "#solution": false,
    "#staff": false,
    "#student": false
   },
   "source": [
    "# Homework 10 #\n",
    "\n",
    "### Instructions\n",
    "\n",
    "Your homeworks have two components: a written portion and a portion that also involves code.  Written work should be completed on paper, and coding questions should be done in the notebook.  You are welcome to LaTeX your answers to the written portions, but staff will not be able to assist you with LaTeX related issues. It is your responsibility to ensure that both components of the homework are submitted completely and properly to Gradescope. Refer to the bottom of the notebook for submission instructions."
   ]
  },
  {
   "cell_type": "code",
   "execution_count": null,
   "id": "609a7505",
   "metadata": {
    "#solution": false,
    "#staff": false,
    "#student": false
   },
   "outputs": [],
   "source": [
    "# Run this cell to set up your notebook\n",
    "\n",
    "# These lines make warnings go away\n",
    "import warnings\n",
    "warnings.filterwarnings('ignore')\n",
    "\n",
    "import numpy as np\n",
    "from scipy import stats\n",
    "from datascience import *\n",
    "from prob140 import *\n",
    "\n",
    "# These lines do some fancy plotting magic\n",
    "import matplotlib\n",
    "%matplotlib inline\n",
    "import matplotlib.pyplot as plt\n",
    "plt.style.use('fivethirtyeight')"
   ]
  },
  {
   "cell_type": "markdown",
   "id": "08a9421b",
   "metadata": {
    "#solution": false,
    "#staff": false,
    "#student": false
   },
   "source": [
    "## 1. Working with a Joint Density ##\n",
    "\n",
    "Let the joint density of $X$ and $Y$ be\n",
    "\n",
    "$$\n",
    "f(x, y) = \n",
    "\\begin{cases}\n",
    "c(x+y) & \\text{for } 0 < x, y < 2 \\\\\n",
    "0 & \\text{otherwise}\n",
    "\\end{cases}\n",
    "$$\n",
    "\n",
    "In the parts below, **do the calculus and show all your work**. Don't use SymPy.\n",
    "\n",
    "**(a)** Find $c$.\n",
    "\n",
    "**(b)** Find $P(Y > X+1)$.\n",
    "\n",
    "**(c)** Find the density of $X$.\n",
    "\n",
    "**(d)** Are $X$ and $Y$ identically distributed? Explain.\n",
    "\n",
    "**(e)** Are $X$ and $Y$ independent? Explain.\n",
    "\n",
    "**(f)** Find $E(XY)$."
   ]
  },
  {
   "cell_type": "markdown",
   "id": "be4f369a",
   "metadata": {
    "#solution": false,
    "#staff": false,
    "#student": false
   },
   "source": [
    "#newpage"
   ]
  },
  {
   "cell_type": "markdown",
   "id": "fbc7c42e",
   "metadata": {
    "#solution": false,
    "#staff": false,
    "#student": false
   },
   "source": [
    "## 2. Functions of Uniform Random Variables ##\n",
    "Let $X$ and $Y$ have joint density\n",
    "\n",
    "$$f(x, y) = \n",
    "\\begin{cases}\n",
    "90(y-x)^8, ~~~~ 0 < x < y < 1 \\\\\n",
    "0 ~~~~~~~~~~~~~~~~~~~~~ \\text{otherwise}\n",
    "\\end{cases}$$ \n",
    "\n",
    "In what follows, please do the calculus yourself and **show all your work**. No `SymPy`.\n",
    "\n",
    "**a)** Find $P(Y > 2X)$.\n",
    "\n",
    "**b)** Find the marginal density of $X$ and remember to provide the possible values. Recognize the density as a member of a famous family and state its name and parameters.\n",
    "\n",
    "**c)** Fill in the blanks (**prove your answer**):\n",
    "The joint density $f$ above is the joint density of the $\\underline{~~~~~~~~~~~~~~~~}$ and $\\underline{~~~~~~~~~~~~~~~~}$ of ten independent uniform $(0, 1)$ random variables.\n",
    "\n",
    "[Follow the steps in [this calculation](http://prob140.org/textbook/content/Chapter_17/04_Beta_Densities_with_Integer_Parameters.html#joint-density-of-two-order-statistics) in the textbook.]"
   ]
  },
  {
   "cell_type": "markdown",
   "id": "d5b041ba",
   "metadata": {
    "#solution": false,
    "#staff": false,
    "#student": false
   },
   "source": [
    "#newpage"
   ]
  },
  {
   "cell_type": "markdown",
   "id": "b7a2a67b",
   "metadata": {
    "#solution": false,
    "#staff": false,
    "#student": false
   },
   "source": [
    "## 3. Functions of Exponential Random Variables ##\n",
    "Let $X$ and $Y$ be independent exponential random variables with rates $\\lambda$ and $\\mu$ respectively.\n",
    "\n",
    "**a)** Let $W = \\min(X, Y)$. Find the distribution of $W$. Start by remembering which of the following is easiest when working with minima: the density, the cdf, or the survival function.\n",
    "\n",
    "**b)** Let $c$ be a positive constant. Results about exponential random variables in Sections [16.1](http://prob140.org/textbook/content/Chapter_16/01_Linear_Transformations.html) and [17.2](http://prob140.org/textbook/content/Chapter_17/02_Independence.html#the-larger-of-two-independent-exponential-random-variables) of the textbook to find $P(X > cY)$ without integration.\n",
    "\n",
    "**c)** Use part (b) to find the cdf of $\\frac{X}{Y}$."
   ]
  },
  {
   "cell_type": "markdown",
   "id": "2e086cb0",
   "metadata": {
    "#solution": false,
    "#staff": false,
    "#student": false
   },
   "source": [
    "#newpage"
   ]
  },
  {
   "cell_type": "markdown",
   "id": "fa2539f5",
   "metadata": {
    "#solution": false,
    "#staff": false,
    "#student": false
   },
   "source": [
    "## 4. Peter Meets Paul ##\n",
    "Peter and Paul agree to meet at a restaurant at noon. Peter arrives at time normally distributed with mean 12:00 noon and SD 3 minutes. Paul arrives at a time normally distributed with mean 12:02 P.M. and SD 4 minutes. \n",
    "\n",
    "Find the chances below assuming that the two arrival times are independent. \n",
    "\n",
    "- First, write a formula for the chance in terms of the standard normal cdf $\\Phi$. \n",
    "- Then use a code cell to find the numerical value. You do not have to turn in any coding work for this question.\n",
    "\n",
    "**a)** $P$(Peter arrives before Paul)\n",
    "\n",
    "**b)** $P$(both men arrive within 3 minutes of noon)\n",
    "\n",
    "**c)** $P$(the two men arrive within 3 minutes of each other)\n",
    "\n"
   ]
  },
  {
   "cell_type": "code",
   "execution_count": null,
   "id": "695eb310",
   "metadata": {
    "#solution": false,
    "#staff": false,
    "#student": true
   },
   "outputs": [],
   "source": [
    "# Calculation for 4a\n",
    "..."
   ]
  },
  {
   "cell_type": "code",
   "execution_count": null,
   "id": "87ece00a",
   "metadata": {
    "#solution": false,
    "#staff": false,
    "#student": true
   },
   "outputs": [],
   "source": [
    "# Calculation for 4b\n",
    "..."
   ]
  },
  {
   "cell_type": "code",
   "execution_count": null,
   "id": "09565838",
   "metadata": {
    "#solution": false,
    "#staff": false,
    "#student": true
   },
   "outputs": [],
   "source": [
    "# Calculation for 4c\n",
    "..."
   ]
  },
  {
   "cell_type": "markdown",
   "id": "cb2a6055",
   "metadata": {
    "#solution": false,
    "#staff": false,
    "#student": false
   },
   "source": [
    "#newpage"
   ]
  },
  {
   "cell_type": "markdown",
   "id": "a3be8030",
   "metadata": {
    "#solution": false,
    "#staff": false,
    "#student": false
   },
   "source": [
    "## 5. Rayleigh Facts and an Application ##\n",
    "\n",
    "Let $R$ have the Rayleigh density given by $f(r) ~ = ~ re^{-\\frac{1}{2}r^2}$ for $r > 0$.\n",
    "\n",
    "Refer to [Section 18.1](http://prob140.org/textbook/content/Chapter_18/01_Standard_Normal_Basics.html#variance) and [Section 18.4](http://prob140.org/textbook/content/Chapter_18/04_Chi_Squared_Distributions.html#from-chi-squared-1-to-chi-squared-n) for ways in which this density arises.\n",
    "\n",
    "The point of Parts **a** and **b** is for you *not to reinvent wheels*, and also for you to notice that math calculation can be reduced by using probability facts. The probabilistic approach to math is powerful, so please follow the approach in the instructions. We will not give credit for other approaches. \n",
    "\n",
    "**a)** Write $E(R)$ as an integral but don't find its value yet. Let $Z$ be standard normal. You know the numerical value of the variance of $Z$. Write the variance of $Z$ as an integral, compare with your integral for $E(R)$, and use the comparison to find the value of $E(R)$. \n",
    "\n",
    "**b)** Use properties of $R^2$ to find $E(R^2)$ without any further integration, and hence find $Var(R)$.\n",
    "\n",
    "**c)** Suppose two shots are fired at a target. Assume each shot hits with independent normally distributed coordinates, with the same means and equal unit variances. Let $D$ be the distance between the point where the two shots strike. Find $E(D)$ and $Var(D)$.\n",
    "\n",
    "[Your calculations will go faster if you remember that a normal $(0, \\sigma^2)$ variable can be written as $\\sigma Z$ where $Z$ is standard normal, and if you use Parts **a-b**.]"
   ]
  },
  {
   "cell_type": "markdown",
   "id": "981d3232",
   "metadata": {
    "#solution": false,
    "#staff": false,
    "#student": false
   },
   "source": [
    "#newpage"
   ]
  },
  {
   "cell_type": "markdown",
   "id": "d0f99e63",
   "metadata": {
    "#solution": false,
    "#staff": false,
    "#student": false
   },
   "source": [
    "## Submission Instructions ##\n",
    "\n",
    "Many assignments throughout the course will have a written portion and a code portion. Please follow the directions below to properly submit both portions.\n",
    "\n",
    "### Written Portion ###\n",
    "*  Scan all the pages into a PDF. You can use any scanner or a phone using applications such as CamScanner. Please **DO NOT** simply take pictures using your phone. \n",
    "* Please start a new page for each question. If you have already written multiple questions on the same page, you can crop the image in CamScanner or fold your page over (the old-fashioned way). This helps expedite grading.\n",
    "* It is your responsibility to check that all the work on all the scanned pages is legible.\n",
    "\n",
    "### Code Portion ###\n",
    "* Save your notebook using File > Save and Checkpoint.\n",
    "* Generate a PDF file using File > Download as > PDF via LaTeX. This might take a few seconds and will automatically download a PDF version of this notebook.\n",
    "    * If you have issues, please make a follow-up post on the general HW 10 Ed thread.\n",
    "    \n",
    "### Submitting ###\n",
    "* Combine the PDFs from the written and code portions into one PDF.  [Here](https://smallpdf.com/merge-pdf) is a useful tool for doing so. \n",
    "* Submit the assignment to Homework 10 on Gradescope. \n",
    "* **Make sure to assign each page of your pdf to the correct question.**\n",
    "* **It is your responsibility to verify that all of your work shows up in your final PDF submission.**\n",
    "\n",
    "If you have questions about scanning or uploading your work, please post a follow-up to the [Ed thread](https://edstem.org/us/courses/24954/discussion/1695227) on this topic. "
   ]
  }
 ],
 "metadata": {
  "checksums": [
   "41c7cd602a4412e76fa92693a8966fea",
   "3b25c7cc47af4c7a186785d60ad2be63",
   "0cd16835f01a065038ef45c8ed1c297c",
   "0e7283d3dab815c40f8ae047df8090e2",
   "640061103a186fd26f59746dd4d6de57",
   "78045b492d07cbe8f792a87aff29244e",
   "640061103a186fd26f59746dd4d6de57",
   "78793f6531079df6b7fc37c3e16cfb4d",
   "640061103a186fd26f59746dd4d6de57",
   "a72dbe68b3ee32238ba8512645751f16",
   "b5529b0a1b34ac6bde2d7736c94c3333",
   "eb1a1ab24861883d81b1efc463ed86f7",
   "34f083b2deea712d947220e91809ba5e",
   "640061103a186fd26f59746dd4d6de57",
   "b26c1ae3b6cef6f0947901bee9868591",
   "640061103a186fd26f59746dd4d6de57",
   "47e3a9e1a2b15f1ad7a24164f29ac295"
  ],
  "kernelspec": {
   "display_name": "Python 3 (ipykernel)",
   "language": "python",
   "name": "python3"
  },
  "language_info": {
   "codemirror_mode": {
    "name": "ipython",
    "version": 3
   },
   "file_extension": ".py",
   "mimetype": "text/x-python",
   "name": "python",
   "nbconvert_exporter": "python",
   "pygments_lexer": "ipython3",
   "version": "3.9.13"
  },
  "number_of_pagebreaks": 5
 },
 "nbformat": 4,
 "nbformat_minor": 5
}
