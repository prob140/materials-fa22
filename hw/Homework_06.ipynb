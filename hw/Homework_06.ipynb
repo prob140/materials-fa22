{
 "cells": [
  {
   "cell_type": "markdown",
   "id": "8bc38b13",
   "metadata": {
    "#solution": false,
    "#staff": false,
    "#student": false
   },
   "source": [
    "<table align=\"left\" style=\"border-style: hidden\" class=\"table\"> <tr><td class=\"col-md-2\"><img style=\"float\" src=\"http://prob140.org/assets/icon_sp22_ugarte.png\" alt=\"Prob140 Logo\" style=\"width: 120px;\"/></td><td><div align=\"left\"><h3 style=\"margin-top: 0;\">Probability for Data Science</h3><h4 style=\"margin-top: 20px;\">UC Berkeley, Fall 2022</h4><p>Ani Adhikari</p>CC BY-NC-SA 4.0</div></td></tr></table><!-- not in pdf -->\n",
    "\n",
    "This content is protected and may not be shared, uploaded, or distributed."
   ]
  },
  {
   "cell_type": "code",
   "execution_count": null,
   "id": "2bda9908",
   "metadata": {
    "#solution": false,
    "#staff": false,
    "#student": false
   },
   "outputs": [],
   "source": [
    "import warnings\n",
    "warnings.filterwarnings('ignore')\n",
    "\n",
    "from prob140 import *\n",
    "from datascience import *\n",
    "import numpy as np\n",
    "from scipy import stats\n",
    "\n",
    "import matplotlib.pyplot as plt\n",
    "%matplotlib inline\n",
    "import matplotlib\n",
    "matplotlib.style.use('fivethirtyeight')"
   ]
  },
  {
   "cell_type": "markdown",
   "id": "2dbec42b",
   "metadata": {
    "#solution": false,
    "#staff": false,
    "#student": false
   },
   "source": [
    "# Homework 6 #"
   ]
  },
  {
   "cell_type": "markdown",
   "id": "fadaf3b2",
   "metadata": {
    "#solution": false,
    "#staff": false,
    "#student": false
   },
   "source": [
    "### Instructions\n",
    "\n",
    "Your homeworks have two components: a written portion and a portion that also involves code.  Written work should be completed on paper, and coding questions should be done in the notebook.  You are welcome to $\\LaTeX$ your answers to the written portions, but staff will not be able to assist you with $\\LaTeX$ related issues. It is your responsibility to ensure that both components of the homework are submitted completely and properly to Gradescope. **Make sure to assign each page of your pdf to the correct question.** Refer to the bottom of the notebook for submission instructions."
   ]
  },
  {
   "cell_type": "markdown",
   "id": "a271b4a3",
   "metadata": {
    "#solution": false,
    "#staff": false,
    "#student": false
   },
   "source": [
    "## 1. ##\n",
    "\n",
    "Let $X_0, X_1, X_2, \\ldots$ be a Markov Chain that has state space $\\{1, 2, 3, 4, 5\\}$ and one-step transition probabilities given by\n",
    "\n",
    "$$\n",
    "P(1, 2) ~ = ~ 1 ~ = ~ P(5, 4)\n",
    "$$\n",
    "and for $2 \\le i \\le 4$,\n",
    "$$\n",
    "P(i, j) ~ = ~ \n",
    "\\begin{cases}\n",
    "\\frac{1}{3} ~~ \\text{ if } j = i+1 \\\\\n",
    "\\frac{1}{3} ~~ \\text{ if } j = i \\\\\n",
    "\\frac{1}{3} ~~ \\text{ if } j = i-1 \\\\\n",
    "\\end{cases}\n",
    "$$\n",
    "\n",
    "**a)** Is there a probability distribution that satisfies the detailed balance equations for this chain? Why or why not?\n",
    "\n",
    "**b)** Find the stationary distribution of the chain.\n",
    "\n",
    "**c)** Find an approximate numerical value of $P(X_{1000} = 4 \\mid X_0 = 3)$."
   ]
  },
  {
   "cell_type": "markdown",
   "id": "9857a4c1",
   "metadata": {
    "#solution": false,
    "#staff": false,
    "#student": false
   },
   "source": [
    "#newpage"
   ]
  },
  {
   "cell_type": "markdown",
   "id": "dd3fad02",
   "metadata": {
    "#solution": false,
    "#staff": false,
    "#student": false
   },
   "source": [
    "## 2. ##\n",
    "\n",
    "A student is asking a Data 140 GSI about the following exercise.\n",
    "\n",
    "\"In a population of $v = u+d$ voters, $u$ are undecided but the remaining $d$ voters have decided how they will vote. If a simple random sample of 20 voters is taken, what is the chance that there are at least 5 undecided voters and at least 10 who have decided? You can assume that both $u$ and $d$ are greater than 20.\"\n",
    "\n",
    "The student shows the GSI the following answer and asks if it is right.\n",
    "\n",
    "$$\n",
    "\\frac{\\sum_{k=5}^{20}\\binom{u}{k}\\binom{d}{20-k}}{\\binom{v}{20}}\\cdot\\frac{\\sum_{k=10}^{20}\\binom{d}{k}\\binom{u}{20-k}}{\\binom{v}{20}}\n",
    "$$\n",
    "\n",
    "- If the answer is right, explain the reasoning in detail, including all uses of distributions and the rules of probability.\n",
    "- If the answer is wrong, provide the right answer. Also say whether the student's answer is an overestimate or an underestimate, and provide an intuitive explanation."
   ]
  },
  {
   "cell_type": "markdown",
   "id": "084a3d82",
   "metadata": {
    "#solution": false,
    "#staff": false,
    "#student": false
   },
   "source": [
    "#newpage"
   ]
  },
  {
   "cell_type": "markdown",
   "id": "24235192",
   "metadata": {
    "#solution": false,
    "#staff": false,
    "#student": false
   },
   "source": [
    "## 3. \"Move to Front\" Permutations ##\n",
    "\n",
    "Consider an alphabet of length $N$. A move-to-front permutation of the $N$ letters consists of picking one of the letters (randomly or otherwise) and moving it to the front of the list. \n",
    "\n",
    "For example, if the alphabet consists of the three letters A, B, and C, and you start with the permutation ABC, then CAB is the result of one move-to-front (the chosen letter is C), as is ABC (the chosen letter is A), but not CBA.\n",
    "\n",
    "**a)** As a preliminary, recall that all transition matrices are stochastic; that is, each row sums to 1. Suppose the transition matrix of a finite-state, irreducible, aperiodic chain is doubly stochastic; that is, each of its columns also sums to 1. Explain why the stationary distribution must be uniform.\n",
    "\n",
    "**b)** A standard deck consists of 52 cards. A “random to front” shuffle is defined as follows: Pick one of the 52 cards uniformly at random and move it to the front of the deck (which you are welcome to think of as the top of the deck, if you prefer). Explain why if you perform this move over and over again, in the long run the deck will become well shuffled; that is, all permutations will be equally likely. [Hint: Set up an appropriate chain and use Part **a**. You might want to try it out first with an alphabet of just the letters A, B, and C.]"
   ]
  },
  {
   "cell_type": "markdown",
   "id": "6942f59c",
   "metadata": {
    "#solution": false,
    "#staff": false,
    "#student": false
   },
   "source": [
    "#newpage"
   ]
  },
  {
   "cell_type": "markdown",
   "id": "50b21dc0",
   "metadata": {
    "#solution": false,
    "#staff": false,
    "#student": false
   },
   "source": [
    "## Submission Instructions ##\n",
    "\n",
    "Many assignments throughout the course will have a written portion and a code portion. Please follow the directions below to properly submit both portions.\n",
    "\n",
    "### Written Portion ###\n",
    "*  Scan all the pages into a PDF. You can use any scanner or a phone using applications such as CamScanner. Please **DO NOT** simply take pictures using your phone. \n",
    "* Please start a new page for each question. If you have already written multiple questions on the same page, you can crop the image in CamScanner or fold your page over (the old-fashioned way). This helps expedite grading.\n",
    "* It is your responsibility to check that all the work on all the scanned pages is legible.\n",
    "\n",
    "### Code Portion ###\n",
    "* Save your notebook using File > Save and Checkpoint.\n",
    "* Generate a PDF file using File > Download as > PDF via LaTeX. This might take a few seconds and will automatically download a PDF version of this notebook.\n",
    "    * If you have issues, please make a follow-up post on the general HW 6 Ed thread.\n",
    "    \n",
    "### Submitting ###\n",
    "* Combine the PDFs from the written and code portions into one PDF.  [Here](https://smallpdf.com/merge-pdf) is a useful tool for doing so. \n",
    "* Submit the assignment to Homework 6 on Gradescope. \n",
    "* **Make sure to assign each page of your pdf to the correct question.**\n",
    "* **It is your responsibility to verify that all of your work shows up in your final PDF submission.**\n",
    "\n",
    "If you have questions about scanning or uploading your work, please post a follow-up to the [Ed thread](https://edstem.org/us/courses/24954/discussion/1695227) on this topic. "
   ]
  },
  {
   "cell_type": "code",
   "execution_count": null,
   "id": "12d50dc9",
   "metadata": {
    "#solution": false,
    "#staff": false,
    "#student": false
   },
   "outputs": [],
   "source": []
  }
 ],
 "metadata": {
  "checksums": [
   "41c7cd602a4412e76fa92693a8966fea",
   "f6b7b3f605ba090e0efd9a26d52136e8",
   "d49f1a865cc9a516c3b9f11e3251c42d",
   "0350987bcbc0b4e3840dce42e8623734",
   "e72adbf837af6ec7dcd5287780449748",
   "640061103a186fd26f59746dd4d6de57",
   "c536966466e7ed5a0a83c14442023706",
   "640061103a186fd26f59746dd4d6de57",
   "91a4250ef965971ac5b63e987460d339",
   "640061103a186fd26f59746dd4d6de57",
   "c6ed068e029fb1a8060c3a1e5462d296",
   "d41d8cd98f00b204e9800998ecf8427e"
  ],
  "kernelspec": {
   "display_name": "Python 3 (ipykernel)",
   "language": "python",
   "name": "python3"
  },
  "language_info": {
   "codemirror_mode": {
    "name": "ipython",
    "version": 3
   },
   "file_extension": ".py",
   "mimetype": "text/x-python",
   "name": "python",
   "nbconvert_exporter": "python",
   "pygments_lexer": "ipython3",
   "version": "3.9.13"
  },
  "number_of_pagebreaks": 3
 },
 "nbformat": 4,
 "nbformat_minor": 5
}
