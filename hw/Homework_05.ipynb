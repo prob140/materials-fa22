{
 "cells": [
  {
   "cell_type": "markdown",
   "id": "3254146f",
   "metadata": {
    "#solution": false,
    "#staff": false,
    "#student": false
   },
   "source": [
    "<table align=\"left\" style=\"border-style: hidden\" class=\"table\"> <tr><td class=\"col-md-2\"><img style=\"float\" src=\"http://prob140.org/assets/icon_sp22_ugarte.png\" alt=\"Prob140 Logo\" style=\"width: 120px;\"/></td><td><div align=\"left\"><h3 style=\"margin-top: 0;\">Probability for Data Science</h3><h4 style=\"margin-top: 20px;\">UC Berkeley, Fall 2022</h4><p>Ani Adhikari</p>CC BY-NC-SA 4.0</div></td></tr></table><!-- not in pdf -->\n",
    "\n",
    "This content is protected and may not be shared, uploaded, or distributed."
   ]
  },
  {
   "cell_type": "code",
   "execution_count": null,
   "id": "16f650e1",
   "metadata": {
    "#solution": false,
    "#staff": false,
    "#student": false
   },
   "outputs": [],
   "source": [
    "import warnings\n",
    "warnings.filterwarnings('ignore')\n",
    "\n",
    "from prob140 import *\n",
    "from datascience import *\n",
    "import numpy as np\n",
    "from scipy import stats\n",
    "\n",
    "import matplotlib.pyplot as plt\n",
    "%matplotlib inline\n",
    "import matplotlib\n",
    "matplotlib.style.use('fivethirtyeight')"
   ]
  },
  {
   "cell_type": "markdown",
   "id": "88120c9e",
   "metadata": {
    "#solution": false,
    "#staff": false,
    "#student": false
   },
   "source": [
    "# Homework 5 #"
   ]
  },
  {
   "cell_type": "markdown",
   "id": "d034e52b",
   "metadata": {
    "#solution": false,
    "#staff": false,
    "#student": false
   },
   "source": [
    "### Instructions\n",
    "\n",
    "Your homeworks have two components: a written portion and a portion that also involves code.  Written work should be completed on paper, and coding questions should be done in the notebook.  You are welcome to $\\LaTeX$ your answers to the written portions, but staff will not be able to assist you with $\\LaTeX$ related issues. It is your responsibility to ensure that both components of the homework are submitted completely and properly to Gradescope. **Make sure to assign each page of your pdf to the correct question.** Refer to the bottom of the notebook for submission instructions."
   ]
  },
  {
   "cell_type": "markdown",
   "id": "72fd7624",
   "metadata": {
    "#solution": false,
    "#staff": false,
    "#student": false
   },
   "source": [
    "## 1. Random Numbers of Trials ##\n",
    "As in lecture and the textbook, we will use \"$p$-coin\" to mean a coin that lands heads with probability $p$.  \n",
    "\n",
    "**a)** In a randomized controlled experiment, it costs researchers $t$ dollars to study each subject in the treatment group and $c$ dollars to study each subject in the control group. Suppose each of $n$ subjects is randomized into one of the two groups according to whether a $p$-coin lands heads (treatment) or tails (control). Find the expected total cost to study all $n$ subjects.\n",
    "\n",
    "**b)** I toss $n$ $p$-coins. Those that land tails I toss again, and then I stop. Find the expected total number of heads.\n",
    "\n",
    "**c)** I have one 0.25-coin, one fair coin, and three 0.75-coins. I pick one of the five coins at random and toss it till I get 10 heads. Find the numerical value of the expected number of tosses."
   ]
  },
  {
   "cell_type": "markdown",
   "id": "3257531c",
   "metadata": {
    "#solution": false,
    "#staff": false,
    "#student": false
   },
   "source": [
    "#newpage"
   ]
  },
  {
   "cell_type": "markdown",
   "id": "3e0acd1c",
   "metadata": {
    "#solution": false,
    "#staff": false,
    "#student": false
   },
   "source": [
    "## 2. Waiting for a Success Run ##\n",
    "**Required Reading:** Before you start this section, carefully read **Answer 2** of [Section 9.3.4](http://prob140.org/textbook/content/Chapter_09/03_Expected_Waiting_Times.html#waiting-till-hh). That is the method you will apply in this exercise.\n",
    "\n",
    "In a sequence of i.i.d. Bernoulli $(p)$ trials, let H represent \"heads\" or \"success\", that is, the event that occurs with probability $p$. Let $W_{H,n}$ be the number of trials till you get $n$ heads in a row. \n",
    "\n",
    "Remember that \"till\" means \"up to and including\" the $n$ heads in a row. Thus if the sequence of tosses starts out as TTTHTHHH then $W_{H,1} = 4$, $W_{H,2} = 7$, and $W_{H,3} = 8$.\n",
    "\n",
    "**(a)** [These results are in the book but it will help to have them here for reference. You don't have to prove them here.] Write $E(W_{H,1})$ and $E(W_{H,2})$ as math expressions involving **only** positive terms of the form $1/p^k$ for positive integer $k$. \n",
    "\n",
    "**(b) Three heads in a row.** In Answer 2 of [Section 9.3.4](http://prob140.org/textbook/content/Chapter_09/03_Expected_Waiting_Times.html#waiting-till-hh), we condition on $W_{H,1}$ to get $E(W_{H,2})$. Now condition on $W_{H,2}$ to find $E(W_{H,3})$. As above, your answer should involve only positive terms of the form $1/p^k$ for positive integer $k$. Find the numerical value of $E(W_{H,3})$ in the case $p = 1/2$.\n",
    "\n",
    "**(c) $n$ heads in a row.** Guess an expression for $E(W_{H,n})$ for $n \\ge 1$. Prove it by induction, as follows: Assume that your guess is true for $n$, and show that then it must also be true for $n+1$. \n",
    "\n",
    "**(d)** Define a function `ev_W_run` that takes $p$ and $n$ as arguments and returns $E(W_{H,n})$. Just replace the ellipsis by an expression. Do not add any other lines of code."
   ]
  },
  {
   "cell_type": "code",
   "execution_count": null,
   "id": "5c56c6da",
   "metadata": {
    "#solution": false,
    "#staff": false,
    "#student": true
   },
   "outputs": [],
   "source": [
    "\n",
    "import numpy as np\n",
    "\n",
    "def ev_W_run(p, n):\n",
    "    return ..."
   ]
  },
  {
   "cell_type": "markdown",
   "id": "f0a85426",
   "metadata": {
    "#solution": false,
    "#staff": false,
    "#student": false
   },
   "source": [
    "Check that your function works by running the cell below and confirming that the answer is the same as what you got in Part **b**."
   ]
  },
  {
   "cell_type": "code",
   "execution_count": null,
   "id": "b6535151",
   "metadata": {
    "#solution": false,
    "#staff": false,
    "#student": true
   },
   "outputs": [],
   "source": [
    "\n",
    "ev_W_run(0.5, 3)"
   ]
  },
  {
   "cell_type": "markdown",
   "id": "da9dbb91",
   "metadata": {
    "#solution": false,
    "#staff": false,
    "#student": false
   },
   "source": [
    "Now use `ev_W_run` to find the expectation of each of the following random variables.\n",
    "\n",
    "(1) The number of tosses of a fair coin till 10 consecutive heads appear \n",
    "\n",
    "(2) The number of rolls of a fair die till six consecutive sixes appear\n",
    "\n",
    "(3) The number of times a random number generator is run till 000 appears, if the generator draws at random with replacement from the 10 digits 0, 1, 2, 3, 4, 5, 6, 7, 8, and 9\n",
    "\n",
    "(4) The number of days till a robot types $ZZZZZ$ if the robot types at the rate of 10 letters per second (without breaks) and chooses letters at random with replacement from the 26 upper case letters of the English alphabet"
   ]
  },
  {
   "cell_type": "code",
   "execution_count": null,
   "id": "9b314bf8",
   "metadata": {
    "#solution": false,
    "#staff": false,
    "#student": true
   },
   "outputs": [],
   "source": [
    "\n",
    "# Expected number of:\n",
    "\n",
    "# (1) fair coin tosses till 10 consecutive heads\n",
    "ans_1 = ...\n",
    "\n",
    "# (2) rolls of a die till 6 consecutive sixes\n",
    "ans_2 = ...\n",
    "\n",
    "# (3) runs of a random number generator till 000\n",
    "ans_3 = ...\n",
    "\n",
    "# (4) days till ZZZZZ by robot typist\n",
    "ans_4 = ...\n",
    "\n",
    "ans_1, ans_2, ans_3, ans_4"
   ]
  },
  {
   "cell_type": "markdown",
   "id": "9a5ef033",
   "metadata": {
    "#solution": false,
    "#staff": false,
    "#student": false
   },
   "source": [
    "#newpage"
   ]
  },
  {
   "cell_type": "markdown",
   "id": "db9f87bf",
   "metadata": {
    "#solution": false,
    "#staff": false,
    "#student": false
   },
   "source": [
    "## 3. Winning Color ##\n",
    "In a population, the proportion of red elements is $p_r$, the proportion of blue elements is $p_b$, the proportion of green elements is $p_g$, and $p_r + p_b + p_g = 1$.\n",
    "\n",
    "In each part below, set $x$ equal to the quantity that you are trying to find, and develop an equation for $x$ by conditioning on the first couple of draws. Try to write the simplest equation you can. Then solve for $x$.\n",
    "\n",
    "**Do not use any other method. The point of this exercise is for you to learn how to use the method outlined above. It's almost certainly going to be shorter than any other correct method.**\n",
    "\n",
    "**a)** Alan draws repeatedly at random with replacement from the population, betting that the color red will appear before the color blue. Find the chance that he wins his bet. Your final answer should be in terms of $p_r$ and $p_b$ only, and you should aim for the simplest possible form.\n",
    "\n",
    "**b)** The answer to **a** can be applied in any situation where there are i.i.d. multinomial trials. For example, suppose a die is rolled repeatedly. Use your answer to Part **a** to find the chance that the face with one spot appears before all the faces that have an even number of spots.\n",
    "\n",
    "**c)** Now suppose Alan plays the following game with Katherine. They draw alternately at random with replacement from the population, with Alan drawing first. Alan wins if he draws red before Katherine has drawn blue. Katherine wins if she draws blue before Alan has drawn red. Find the chance that Alan wins the game. To keep your expressions simple, use the notation $q_r = 1-p_r$ and $q_b = 1 - p_b$.\n",
    "\n",
    "**d)** Find the expected duration of the game in Part **c**. That is, find the expected number of draws till there is a winner."
   ]
  },
  {
   "cell_type": "markdown",
   "id": "b26c7068",
   "metadata": {
    "#solution": false,
    "#staff": false,
    "#student": false
   },
   "source": [
    "#newpage"
   ]
  },
  {
   "cell_type": "markdown",
   "id": "e8d747b0",
   "metadata": {
    "#solution": false,
    "#staff": false,
    "#student": false
   },
   "source": [
    "## 4. Switching Chain ##\n",
    "Consider a Markov Chain $X_0, X_1, \\ldots$ with the transition matrix given below, for some $0 < p < 1$ and $q = 1-p$.\n",
    "\n",
    "| **States**| $~~0~~$ | $~~1~~$ |\n",
    "|-----|-----|-----|\n",
    "| $~~0~~$ | $~~p~~$ | $~~q~~$ |\n",
    "| $~~1~~$ | $~~q~~$ | $~~p~~$ |\n",
    "\n",
    "**a)** Explain why this chain is irreducible and aperiodic.\n",
    "\n",
    "**b)** For $n \\ge 1$, let $C_n$ be the number of *switches* up to time $n$. That is, $C_n$ is the number of times the chain changes state up to and including time $n$. For example, if the path is 0 0 0 1 0 0 0 1 1, then $C_8 = 3$ (remember that the path starts at $X_0$). What is the distribution of $C_n$, and why?\n",
    "\n",
    "**c)** In the path $010100$, $X_0 = 0$ and $X_5 = 0$, so there is a $0 \\to 0$ transition in 5 steps. Find the value of $C_5$ for this path; you don't have to turn it in. For your own understanding, create several more examples of $0 \\to 0$ transitions for different values of $n$, and find the value of $C_n$ in each of your examples. There are already some more examples in the given path $010100$. For example the initial segment $010$ is a $0 \\to 0$ transition in 2 steps.\n",
    "\n",
    "Think about what is common to the values of $C_n$ that you found in your examples. Now fill in the blank with a word, and **justify your answer**. \n",
    "\n",
    "For $n \\ge 1$, \n",
    "$$\n",
    "P_n(0, 0) ~ = ~ P(C_n \\text{ is } \\underline{ ~~~~~~~~~~~~~~~ })\n",
    "$$\n",
    "\n",
    "**d)** Now find $P_n(0, 0)$ using Part **b**. [Hint: Compare the expansions of $(p+q)^n$ and $(p-q)^n$. How can you use both of them to get just the terms that you need?] \n",
    "\n",
    "**e)** Use Part **d** (not the balance equations) to find the stationary distribution of the chain. This will give you a complete proof of the stationary distribution in this case, whereas our general discussion of the balance equations relies on your acceptance of the main [convergence theorem](http://prob140.org/textbook/content/Chapter_10/03_Long_Run_Behavior.html#convergence-to-stationarity) without proof."
   ]
  },
  {
   "cell_type": "markdown",
   "id": "c5391342",
   "metadata": {
    "#solution": false,
    "#staff": false,
    "#student": false
   },
   "source": [
    "## Submission Instructions ##\n",
    "\n",
    "Many assignments throughout the course will have a written portion and a code portion. Please follow the directions below to properly submit both portions.\n",
    "\n",
    "### Written Portion ###\n",
    "*  Scan all the pages into a PDF. You can use any scanner or a phone using applications such as CamScanner. Please **DO NOT** simply take pictures using your phone. \n",
    "* Please start a new page for each question. If you have already written multiple questions on the same page, you can crop the image in CamScanner or fold your page over (the old-fashioned way). This helps expedite grading.\n",
    "* It is your responsibility to check that all the work on all the scanned pages is legible.\n",
    "\n",
    "### Code Portion ###\n",
    "* Save your notebook using File > Save and Checkpoint.\n",
    "* Generate a PDF file using File > Download as > PDF via LaTeX. This might take a few seconds and will automatically download a PDF version of this notebook.\n",
    "    * If you have issues, please make a follow-up post on the general HW 5 Ed thread.\n",
    "    \n",
    "### Submitting ###\n",
    "* Combine the PDFs from the written and code portions into one PDF.  [Here](https://smallpdf.com/merge-pdf) is a useful tool for doing so. \n",
    "* Submit the assignment to Homework 5 on Gradescope. \n",
    "* **Make sure to assign each page of your pdf to the correct question.**\n",
    "* **It is your responsibility to verify that all of your work shows up in your final PDF submission.**\n",
    "\n",
    "If you have questions about scanning or uploading your work, please post a follow-up to the [Ed thread](https://edstem.org/us/courses/24954/discussion/1695227) on this topic. "
   ]
  }
 ],
 "metadata": {
  "checksums": [
   "41c7cd602a4412e76fa92693a8966fea",
   "f6b7b3f605ba090e0efd9a26d52136e8",
   "54d2b808529b8f055694b8ea1e601f78",
   "0350987bcbc0b4e3840dce42e8623734",
   "7d29fd00f6cbbbae41e8e6ee54c78475",
   "640061103a186fd26f59746dd4d6de57",
   "578c5d5f9a7548051305511b112ef4f9",
   "2d2ee3802e6db4f63c8350fd18b0e272",
   "57015ed4dea3185d90bf4f96e54c73cf",
   "97ad7cec01bae15e500d2a55e4b1acb2",
   "b5e99e46d862b81ff6d6606c5d0dbb94",
   "2bcb3c5f3a45364abfc19afebfa2fc75",
   "640061103a186fd26f59746dd4d6de57",
   "e8e13cb4f2319ab24af080e110015820",
   "640061103a186fd26f59746dd4d6de57",
   "12310d062f15cc3cecfe95e19726ef3d",
   "f5f88fbac756a95d6091aeb91d3f7f5f"
  ],
  "kernelspec": {
   "display_name": "Python 3 (ipykernel)",
   "language": "python",
   "name": "python3"
  },
  "language_info": {
   "codemirror_mode": {
    "name": "ipython",
    "version": 3
   },
   "file_extension": ".py",
   "mimetype": "text/x-python",
   "name": "python",
   "nbconvert_exporter": "python",
   "pygments_lexer": "ipython3",
   "version": "3.9.13"
  },
  "number_of_pagebreaks": 3
 },
 "nbformat": 4,
 "nbformat_minor": 5
}
