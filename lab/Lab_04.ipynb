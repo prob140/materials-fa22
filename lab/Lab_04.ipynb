{
 "cells": [
  {
   "cell_type": "markdown",
   "metadata": {
    "#solution": false,
    "#staff": false,
    "#student": false
   },
   "source": [
    "<table align=\"left\" style=\"border-style: hidden\" class=\"table\"> <tr><td class=\"col-md-2\"><img style=\"float\" src=\"http://prob140.org/assets/icon_sp22_ugarte.png\" alt=\"Prob140 Logo\" style=\"width: 120px;\"/></td><td><div align=\"left\"><h3 style=\"margin-top: 0;\">Probability for Data Science</h3><h4 style=\"margin-top: 20px;\">UC Berkeley, Fall 2022</h4><p>Ani Adhikari</p>CC BY-NC-SA 4.0</div></td></tr></table><!-- not in pdf -->\n",
    "\n",
    "This content is protected and may not be shared, uploaded, or distributed."
   ]
  },
  {
   "cell_type": "code",
   "execution_count": null,
   "metadata": {
    "#solution": false,
    "#staff": false,
    "#student": false
   },
   "outputs": [],
   "source": [
    "from datascience import *\n",
    "from prob140 import *\n",
    "import numpy as np\n",
    "from scipy import stats\n",
    "import matplotlib.pyplot as plt\n",
    "plt.style.use('fivethirtyeight')\n",
    "%matplotlib inline"
   ]
  },
  {
   "cell_type": "markdown",
   "metadata": {
    "#solution": false,
    "#staff": false,
    "#student": false
   },
   "source": [
    "# Lab 4: Multinomial Correlations\n",
    "\n",
    "Many questions in data science involve populations that can be partitioned into categories of individuals. For example, in Data 8 you classified individuals into one of two classes. Data 100 examines logistic regression as a different approach to binary classification. These methods can be extended to multiple categories.\n",
    "\n",
    "At a more fundamental level, it is important to understand how a random sample from a categorical population reflects the population. As you know, the [multinomial](http://prob140.org/textbook/content/Chapter_06/03_Multinomial_Distribution.html#id1) is the joint distribution of the counts of the different categories in a random sample of a fixed size. \n",
    "\n",
    "More precisely, suppose the population has $k$ categories of individuals in proportions $p_1, p_2, \\ldots, p_k$ with $\\sum_{i=1}^k p_i = 1$. For $1 \\le i \\le k$ let $N_i$ be the number of elements in Category $i$ in a sample of size $n$ drawn at random with replacement from the population. Then the joint distribution of of $N_1, N_2, \\ldots, N_k$ is multinomial with parameters $n$ and $p_1, p_2, \\ldots, p_k$.\n",
    "\n",
    "The counts $N_1, N_2, \\ldots, N_k$ are dependent since $\\sum_{i=1}^k N_i = n$ which is a constant. In this lab you will study the dependence between pairs $N_i$ and $N_j$ and develop a way to predict $N_j$ based on the value of $N_i$. You will see that the method is closely connected to the linear regression that you studied in Data 8.\n",
    "\n",
    "What you will learn in this lab:\n",
    "\n",
    "- How to simulate multinomial counts in Python\n",
    "- How to find the covariance of two multinomial counts and hence the correlation between them\n",
    "- How to predict one multinomial count based on another, and how this is connected to linear regression\n",
    "\n",
    "A few computational preliminaries will help you get started."
   ]
  },
  {
   "cell_type": "markdown",
   "metadata": {
    "#solution": false,
    "#staff": false,
    "#student": false
   },
   "source": [
    "## Part 1: Preliminaries\n",
    "\n",
    "### 1a) Simulating a Multinomial\n",
    "`np.random.multinomial(n, p_array)` simulates `n` draws at random with replacement from the categorical distribution `p_array` and returns an array of the observed counts in all the categories. \n",
    "\n",
    "You have seen a version of this in Data 8. The `datascience` [function](https://inferentialthinking.com/chapters/11/2/Multiple_Categories.html#comparison-with-panels-selected-at-random) `sample_proportions` is just `np.random.multinomial` with the output converted to proportions.\n",
    "\n",
    "Run the cell below to draw 10 times from a population in which 20% are in Category A, 70% in Category B, and 10% in Category C. The output array contains the observed counts in Categories A, B, and C. \n",
    "\n",
    "Confirm that it makes sense, by looking at the total count and the count in each category. Then run the cell a few times to see how the observations change."
   ]
  },
  {
   "cell_type": "code",
   "execution_count": null,
   "metadata": {
    "#solution": false,
    "#staff": false,
    "#student": false
   },
   "outputs": [],
   "source": [
    "num_draws = 10\n",
    "population_proportions = [0.2, 0.7, 0.1] # make_array(0.2, 0.7, 0.1) is also fine\n",
    "np.random.multinomial(num_draws, population_proportions)"
   ]
  },
  {
   "cell_type": "markdown",
   "metadata": {
    "#solution": false,
    "#staff": false,
    "#student": false
   },
   "source": [
    "### 1b) Adding Rows to a Table\n",
    "You know that `t.with_columns` can be used to add a column or columns to a table `t`. Sometimes it is useful to grow a table by adding rows. Start by creating the table with just the column labels and no rows, as follows."
   ]
  },
  {
   "cell_type": "code",
   "execution_count": null,
   "metadata": {
    "#solution": false,
    "#staff": false,
    "#student": false
   },
   "outputs": [],
   "source": [
    "t = Table(['Column A', 'Column B', 'Column C'])\n",
    "t"
   ]
  },
  {
   "cell_type": "markdown",
   "metadata": {
    "#solution": false,
    "#staff": false,
    "#student": false
   },
   "source": [
    "Now `append` a row to the table. It is important to note that `t.append` mutates (that is, changes) the table `t`. Unlike the usual Table operations, it doesn't just display a temporary copy of `t` that you have to name if you want to save it. Run the two cells below and keep track of what happens to `t`."
   ]
  },
  {
   "cell_type": "code",
   "execution_count": null,
   "metadata": {
    "#solution": false,
    "#staff": false,
    "#student": false
   },
   "outputs": [],
   "source": [
    "t.append([1, 2, 3])"
   ]
  },
  {
   "cell_type": "code",
   "execution_count": null,
   "metadata": {
    "#solution": false,
    "#staff": false,
    "#student": false
   },
   "outputs": [],
   "source": [
    "# t has been changed\n",
    "t"
   ]
  },
  {
   "cell_type": "markdown",
   "metadata": {
    "#solution": false,
    "#staff": false,
    "#student": false
   },
   "source": [
    "To append another row, use `append` again."
   ]
  },
  {
   "cell_type": "code",
   "execution_count": null,
   "metadata": {
    "#solution": false,
    "#staff": false,
    "#student": false
   },
   "outputs": [],
   "source": [
    "t.append([4, 5, 6])"
   ]
  },
  {
   "cell_type": "code",
   "execution_count": null,
   "metadata": {
    "#solution": false,
    "#staff": false,
    "#student": false
   },
   "outputs": [],
   "source": [
    "# t has been changed\n",
    "t"
   ]
  },
  {
   "cell_type": "markdown",
   "metadata": {
    "#solution": false,
    "#staff": false,
    "#student": false
   },
   "source": [
    "### 1c) Putting the Two Together\n",
    "Create a table `simulated_counts` that has column labels `A`, `B`, and `C`. The table should have two rows. Each row should contain the observed counts in Categories A, B, and C in 10 multinomial trials, each of which results in Category A with chance $0.2$, Category B with chance $0.7$, and Category C with chance $0.1$ as in Part **a** above. The trials in each row should be independent of those in the other row.\n",
    "\n",
    "You should use no more than 3 lines of code."
   ]
  },
  {
   "cell_type": "code",
   "execution_count": null,
   "metadata": {
    "#solution": false,
    "#staff": false,
    "#student": true
   },
   "outputs": [],
   "source": [
    "# Answer to 1c\n",
    "\n",
    "...\n",
    "...\n",
    "..."
   ]
  },
  {
   "cell_type": "markdown",
   "metadata": {
    "#solution": false,
    "#staff": false,
    "#student": false
   },
   "source": [
    "## 2. Marginals\n",
    "Each spin of a Nevada roulette wheel results in the winning color being red with chance $18/38$, black with chance $18/38$, and green with chance $2/38$, independent of all other spins.\n",
    "\n",
    "A Nevada roulette wheel is spun $380$ times. Let $R$ be the number of times red wins, let $B$ be the number of times black wins, and let $G$ be the number of times green wins.\n",
    "\n",
    "### 2a) The Distributions\n",
    "Fill in the blanks below with the names of famous distributions and the relevant parameters.\n",
    "\n",
    "(i) The joint distribution of $R$, $B$, and $G$ is $\\underline{~~~~~~~~~~~~~~~~~~~~~~~~~~}$ with parameters $\\underline{~~~~~~~~~~~~~~~~~~~~~~~~~~~~~~~~~~~~~~~~~~~~~~~}$.\n",
    "\n",
    "(ii) $R$ has the $\\underline{~~~~~~~~~~~~~~~~~~~~~~~~~~(~~~~~~~~~~~~~~~)}$ distribution.\n",
    "\n",
    "(iii) $B$ has the $\\underline{~~~~~~~~~~~~~~~~~~~~~~~~~~(~~~~~~~~~~~~~~~)}$ distribution.\n",
    "\n",
    "(iv) $G$ has the $\\underline{~~~~~~~~~~~~~~~~~~~~~~~~~~(~~~~~~~~~~~~~~~)}$ distribution."
   ]
  },
  {
   "cell_type": "markdown",
   "metadata": {
    "#solution": false,
    "#staff": false,
    "#student": true
   },
   "source": [
    "\n",
    "**Your answer here**"
   ]
  },
  {
   "cell_type": "markdown",
   "metadata": {
    "#solution": false,
    "#staff": false,
    "#student": false
   },
   "source": [
    "### 2b) Probability Histogram of $R$\n",
    "\n",
    "Draw the probability histogram of $R$."
   ]
  },
  {
   "cell_type": "code",
   "execution_count": null,
   "metadata": {
    "#solution": false,
    "#staff": false,
    "#student": true
   },
   "outputs": [],
   "source": [
    "# Answer to 2b\n",
    "\n",
    "k = np.arange(130, 231)\n",
    "p_k = ...\n",
    "dist_R = Table().values(k).probabilities(p_k)\n",
    "Plot(dist_R, show_ev=True, show_sd=True)\n",
    "plt.title('Distribution of $R$');"
   ]
  },
  {
   "cell_type": "markdown",
   "metadata": {
    "#solution": false,
    "#staff": false,
    "#student": false
   },
   "source": [
    "### 2c) Expectations and SDs\n",
    "Use Part **a** to write numerical expressions for the expectations and SDs of the three random counts. Check that the values of $E(R)$ and $SD(R)$ are consistent with the histogram in Part **b**."
   ]
  },
  {
   "cell_type": "code",
   "execution_count": null,
   "metadata": {
    "#solution": false,
    "#staff": false,
    "#student": true
   },
   "outputs": [],
   "source": [
    "# Answer to 2c\n",
    "\n",
    "exp_R = ...  # E(R)\n",
    "sd_R =  ...  # SD(R)\n",
    "exp_B = ...\n",
    "sd_B = ...\n",
    "exp_G = ...\n",
    "sd_G = ...\n",
    "exp_R, sd_R, exp_B, sd_B, exp_G, sd_G"
   ]
  },
  {
   "cell_type": "markdown",
   "metadata": {
    "#solution": false,
    "#staff": false,
    "#student": false
   },
   "source": [
    "### 2d) Empirical Histogram of $R$\n",
    "Create a table `simulated` that has three columns labeled `R`, `B`, and `G`. The table should have 10,000 rows. Each row should consist of the observed values of $R$, $B$, and $G$ in one set of 380 spins of the roulette wheel. The spins in each row should be independent of those in the other rows.\n",
    "\n",
    "Then draw an empirical histogram of the distribution of $R$ and compare it briefly with the histogram in Part **b**. Use as many lines as you need before the last two lines provided."
   ]
  },
  {
   "cell_type": "code",
   "execution_count": null,
   "metadata": {
    "#solution": false,
    "#staff": false,
    "#student": true
   },
   "outputs": [],
   "source": [
    "# Answer to 2d\n",
    "\n",
    "...\n",
    "\n",
    "simulated.hist('R', bins=np.arange(129.5, 231, 1))\n",
    "plt.title('Empirical Distribution of $R$'); # COMPARE WITH 2b"
   ]
  },
  {
   "cell_type": "markdown",
   "metadata": {
    "#solution": false,
    "#staff": false,
    "#student": false
   },
   "source": [
    "### 2e) Empirical Mean and SD\n",
    "Find the mean and SD of the 10,000 simulated values of $R$ and compare them to $E(R)$ and $SD(R)$ as found in Part **c**."
   ]
  },
  {
   "cell_type": "code",
   "execution_count": null,
   "metadata": {
    "#solution": false,
    "#staff": false,
    "#student": true
   },
   "outputs": [],
   "source": [
    "# Answer to 2e\n",
    "\n",
    "emp_mean_R = ...\n",
    "emp_SD_R = ...\n",
    "emp_mean_R, emp_SD_R  # COMPARE TO E(R) AND SD(R)"
   ]
  },
  {
   "cell_type": "markdown",
   "metadata": {
    "#solution": false,
    "#staff": false,
    "#student": false
   },
   "source": [
    "## 3. Covariance and Correlation\n",
    "The multinomial is a joint distribution, so now let's look at the relation between $R$ and the other two variables.\n",
    "\n",
    "### 3a) Sign ($+$ or $-$) of Correlation\n",
    "Just based on your [Data 8](https://inferentialthinking.com/chapters/15/1/Correlation.html#the-correlation-coefficient) recollection of properties of correlation, what would you guess as the sign of the correlation between $R$ and $B$, and why?"
   ]
  },
  {
   "cell_type": "markdown",
   "metadata": {
    "#solution": false,
    "#staff": false,
    "#student": true
   },
   "source": [
    "\n",
    "**Your answer here**"
   ]
  },
  {
   "cell_type": "markdown",
   "metadata": {
    "#solution": false,
    "#staff": false,
    "#student": false
   },
   "source": [
    "### 3b) [On Paper] Covariance of $R$ and $B$\n",
    "\n",
    "Find $Cov(R, B)$ using both the methods below. The first is a direct calculation using the most important property of covariance. The second is a consequence of the particular structure of $R$, $B$, and $G$.\n",
    "\n",
    "**Method 1, using biliniearity:** For each spin $i$, define indicators $X_i$ and $Y_i$ such that $R = \\sum_{j=1}^{380} X_j$ and $B = \\sum_{k=1}^{380} Y_k$. Then use bilinearity to find $Cov(R, B)$ and check whether its sign is the same as in Part **a**.\n",
    "\n",
    "[It will help to keep in mind that for $j \\neq k$, $X_j$ is independent of $Y_k$. Then think carefully about $Cov(X_j, Y_j)$.]\n",
    "\n",
    "**Method 2, using the variance of a sum:** Identify the distribution of $R+B$ and hence find $Var(R+B)$. Then use Part **2c** and the formula for the variance of a sum to find $Cov(R, B)$.\n",
    "\n"
   ]
  },
  {
   "cell_type": "markdown",
   "metadata": {
    "#solution": false,
    "#staff": false,
    "#student": false
   },
   "source": [
    "### 3c) [On Paper] Correlation ###\n",
    "The covariance of random variables $X$ and $Y$ has nasty units: the product of the units of $X$ and the units of $Y$. Dividing the covariance by the two SDs results in an important pure number.\n",
    "\n",
    "Define the *correlation coefficient* between random variables $X$ and $Y$ as\n",
    "\n",
    "$$\n",
    "Corr(X, Y) ~ = \\frac{Cov(X, Y)}{SD(X)SD(Y)}\n",
    "$$\n",
    "\n",
    "and is called *correlation* for short.\n",
    "\n",
    "Find $Corr(R, B)$."
   ]
  },
  {
   "cell_type": "markdown",
   "metadata": {
    "#solution": false,
    "#staff": false,
    "#student": false
   },
   "source": [
    "### 3d) Empirical Correlation\n",
    "Let `v_1` and `v_2` be numerical arrays of the same length. The expression `np.corrcoef(v_1, v_2)` evaluates to a $2 \\times 2$ *correlation matrix* whose $(i, j)$ element is the correlation (as defined in Data 8) between `v_i` and `v_j`. Thus both the diagonal elements are equal to $1$, and both the off-diagonal elements are the correlation between `v_1` and `v_2` just as you would have calculated it in Data 8.\n",
    "\n",
    "Use **2d** to get the empirical correlation between $R$ and $B$ based on 10,000 simulations, in a correlation matrix `corr_matrix`. Make sure the result is consistent with your answer to Part **c** above.\n",
    "\n",
    "Make sure the result is consistent with your answer to Part **c** above.\n",
    "\n",
    "Later in the lab, to access just the off-diagonal element you can use `corr_matrix[0, 1]`."
   ]
  },
  {
   "cell_type": "code",
   "execution_count": null,
   "metadata": {
    "#solution": false,
    "#staff": false,
    "#student": true
   },
   "outputs": [],
   "source": [
    "# Answer to 3d\n",
    "\n",
    "corr_matrix = ...\n",
    "corr_matrix"
   ]
  },
  {
   "cell_type": "markdown",
   "metadata": {
    "#solution": false,
    "#staff": false,
    "#student": false
   },
   "source": [
    "### 3e) Visualization\n",
    "\n",
    "Draw the scatter plot of the 10,000 $(R, B)$ points simulated in **2d**, with $R$ on the horizontal axis. Use only one line of code before the two lines provided. Check that the plot looks consistent with the correlation you found in Part **d**."
   ]
  },
  {
   "cell_type": "code",
   "execution_count": null,
   "metadata": {
    "#solution": false,
    "#staff": false,
    "#student": true
   },
   "outputs": [],
   "source": [
    "# Answer to 3e\n",
    "\n",
    "...\n",
    "plt.xlim(130, 230)\n",
    "plt.ylim(130, 230);"
   ]
  },
  {
   "cell_type": "markdown",
   "metadata": {
    "#solution": false,
    "#staff": false,
    "#student": false
   },
   "source": [
    "## 4. Conditional Expectation\n",
    "\n",
    "Clearly, there's a straight line going through the scatter plot in **3e**. Let's try to find a plausible candidate for that line.\n",
    "\n",
    "### 4a) [On Paper] A Conditional Distribution\n",
    "Let $0 \\le r+b \\le 380$. \n",
    "\n",
    "Find $P(B = b \\mid R = r)$. Use your formula to answer the following.\n",
    "\n",
    "(i) Identify the conditional distribution of $B$ given $R=r$ as one of the famous ones and provide its parameters.\n",
    "\n",
    "(ii) Find $E(B \\mid R)$ and show that it is a linear function of $R$."
   ]
  },
  {
   "cell_type": "markdown",
   "metadata": {
    "#solution": false,
    "#staff": false,
    "#student": false
   },
   "source": [
    "### 4b) Another Visualization\n",
    "Redraw the scatter plot in **3e** and overlay the line $R \\to E(B \\mid R)$."
   ]
  },
  {
   "cell_type": "code",
   "execution_count": null,
   "metadata": {
    "#solution": false,
    "#staff": false,
    "#student": true
   },
   "outputs": [],
   "source": [
    "# Answer to 4b\n",
    "\n",
    "r = np.arange(130, 231)\n",
    "exp_B_given_r = ...  # E(B | R=r)\n",
    "simulated.scatter('R', 'B')\n",
    "plt.plot(r, exp_B_given_r, color='green', lw=3, label='$E(B \\mid R)$')\n",
    "plt.legend();"
   ]
  },
  {
   "cell_type": "markdown",
   "metadata": {
    "#solution": false,
    "#staff": false,
    "#student": false
   },
   "source": [
    "Later in the term we'll see that $E(B \\mid R)$ is the best among all predictors of $B$ based on $R$, in the sense of least squared error. The result is valid for any two jointly distributed random variables and does not involve observed data."
   ]
  },
  {
   "cell_type": "markdown",
   "metadata": {
    "#solution": false,
    "#staff": false,
    "#student": false
   },
   "source": [
    "### 4c) The Regression Line Based on Data\n",
    "In Data 8, the regression line was calculated as the best straight line for prediction using the data points at hand. In our current setting that would be the least squares line based on the 10,000 simulated points, not based on the underlying distribution of those points like the conditional expectation line you found in Part **b** above.\n",
    "\n",
    "Let's calculate the Data 8 line based on the empirical averages and SDs in **2e**. [Recall](https://inferentialthinking.com/chapters/15/2/Regression_Line.html#the-equation-of-the-regression-line) the formulas for the slope and intercept of the regression line, and find the slope and intercept using the simulated data in **2d**. \n",
    "\n",
    "Remember that in **2e** you already found `emp_mean_R`, the empirical mean of $R$, and `emp_SD_R`, the empirical SD of $R$. In **3d** you found the empirical correlation between $R$ and $B$. You just need a couple of quantities related to $B$, and then you can find the slope and intercept of the regression line based on the 10,000 simulated points."
   ]
  },
  {
   "cell_type": "code",
   "execution_count": null,
   "metadata": {
    "#solution": false,
    "#staff": false,
    "#student": true
   },
   "outputs": [],
   "source": [
    "# Answer to 4c\n",
    "\n",
    "emp_mean_B = ...\n",
    "emp_SD_B = ...\n",
    "reg_slope = ...\n",
    "reg_intercept = ...\n",
    "reg_slope, reg_intercept"
   ]
  },
  {
   "cell_type": "markdown",
   "metadata": {
    "#solution": false,
    "#staff": false,
    "#student": false
   },
   "source": [
    "The resulting line is an excellent estimate of the underlying conditional expectation line $R \\to E(B \\mid R)$ that you plotted in **4b**."
   ]
  },
  {
   "cell_type": "markdown",
   "metadata": {
    "#solution": false,
    "#staff": false,
    "#student": false
   },
   "source": [
    "## Conclusion\n",
    "\n",
    "What you have learned in this lab:\n",
    "\n",
    "- How to simulate multinomial variables in Python\n",
    "- How probability distributions and properties such as expectation, standard deviation, and correlation are related to empirical distributions and their corresponding properties\n",
    "- How to find the correlation between two multinomial counts\n",
    "- That conditional expectation can be thought of as a way to make predictions\n",
    "- That for predicting one multinomial count based on another, based on a large amount of data, the empirical regression line looks very much like the conditional expectation of the response given the predictor"
   ]
  },
  {
   "cell_type": "markdown",
   "metadata": {
    "#solution": false,
    "#staff": false,
    "#student": false
   },
   "source": [
    "## Submission Instructions ##\n",
    "\n",
    "Many assignments throughout the course will have a written portion and a code portion. Please follow the directions below to properly submit both portions.\n",
    "\n",
    "### Written Portion ###\n",
    "*  Scan all the pages into a PDF. You can use any scanner or a phone using applications such as CamScanner. Please **DO NOT** simply take pictures using your phone. \n",
    "* Please start a new page for each question. If you have already written multiple questions on the same page, you can crop the image in CamScanner or fold your page over (the old-fashioned way). This helps expedite grading.\n",
    "* It is your responsibility to check that all the work on all the scanned pages is legible.\n",
    "\n",
    "### Code Portion ###\n",
    "* Save your notebook using File > Save and Checkpoint.\n",
    "* Generate a PDF file using File > Download as > PDF via LaTeX. This might take a few seconds and will automatically download a PDF version of this notebook.\n",
    "    * If you have issues, please make a follow-up post on the general Lab 4 Ed thread.\n",
    "    \n",
    "### Submitting ###\n",
    "* Combine the PDFs from the written and code portions into one PDF.  [Here](https://smallpdf.com/merge-pdf) is a useful tool for doing so. \n",
    "* Submit the assignment to Lab 4 on Gradescope. \n",
    "* **Make sure to assign each page of your pdf to the correct question.**\n",
    "* **It is your responsibility to verify that all of your work shows up in your final PDF submission.**\n",
    "\n",
    "If you have questions about scanning or uploading your work, please post a follow-up to the [Ed thread](https://edstem.org/us/courses/24954/discussion/1695227) on this topic. "
   ]
  }
 ],
 "metadata": {
  "checksums": [
   "41c7cd602a4412e76fa92693a8966fea",
   "77cc7b382abfbea3c4b2addca53f2117",
   "7894207df9ea872c13abc44e135a0071",
   "aa95bc1c45c3713dfa46ddfb911df559",
   "291b75a5d46649b20bbb55696970f588",
   "851a02af355e56668849e8ac5a27e244",
   "10739f254314920d042a098e3c43576d",
   "67bae7677b17c3b13beeb1aa4adf3d64",
   "9f8deec06054e91674875e1274031d84",
   "8d6c3d9f5bd0313fced39e1ca011c6ef",
   "e36081a23e8647c33348a75d0521440b",
   "75e17b33d8055c177fa51ddc6f24d171",
   "8d6c3d9f5bd0313fced39e1ca011c6ef",
   "025bf13359dce7b19f691908e107f56d",
   "347db7cf850cdfd49d6a5b3dd1834d6b",
   "0dcd273c7bf433bf50e86c60d2d50b86",
   "0de20b93bb878d597e59213991465648",
   "5d3fc6446187c2a4c7f9e79be09cce83",
   "56e8c0882ec18d0b2892ea5bff52ac75",
   "63d282dc6697398ef617e52f3ff0d153",
   "909a841f6513b806d89ecd812d9e39e1",
   "d1af46d4e7354e8ba86140986581de29",
   "4426d9cc4d0bd6296e070a7edf05dfcd",
   "f063eb75c1d8adba7e98a29ff7931550",
   "75c44a53e661ae91f3ce6640bf59af31",
   "0a27255d988c5bb84f0a6dcac74b07ab",
   "0de20b93bb878d597e59213991465648",
   "ddd7e70f4794967d28c30ca811efe8bb",
   "d80f277c5f2470c9f60eaeb317200f9f",
   "7ee6f8b87cd80db2e7c86668094db0c4",
   "0325e9845f7cdc6967d66a2bdeca25f0",
   "3b9448e6b1db4d45b1a8ef52cd157a14",
   "7d4c3fdd3b6e907c9c16d80567391cb7",
   "93b7a568b232e02d331b837f04cd3102",
   "e160f85171ffe5594f11bcb486bf9a84",
   "870ff8bf6859835c045267c628424707",
   "7bbe0326ed2676485e4a53610c63126c",
   "97a85d3124d2d8d01504ddfaa28f7174",
   "a542a68c9beb42f333f63b58840cad3a",
   "b19ec28c91dd8387ac62f75dd4446242",
   "7fb2f966596b31165d95411bc94f087a",
   "9bbd64ebdf4da1c1db4d726a5cceb9e2"
  ],
  "kernelspec": {
   "display_name": "Python 3 (ipykernel)",
   "language": "python",
   "name": "python3"
  },
  "language_info": {
   "codemirror_mode": {
    "name": "ipython",
    "version": 3
   },
   "file_extension": ".py",
   "mimetype": "text/x-python",
   "name": "python",
   "nbconvert_exporter": "python",
   "pygments_lexer": "ipython3",
   "version": "3.9.13"
  },
  "number_of_pagebreaks": 0
 },
 "nbformat": 4,
 "nbformat_minor": 4
}
